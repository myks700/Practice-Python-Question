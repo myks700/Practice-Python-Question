{
 "cells": [
  {
   "cell_type": "code",
   "execution_count": 1,
   "id": "54806e20-c5db-4c78-bc0c-29f2328e8169",
   "metadata": {},
   "outputs": [
    {
     "name": "stdin",
     "output_type": "stream",
     "text": [
      "Hey, what's up?  Good\n"
     ]
    },
    {
     "name": "stdout",
     "output_type": "stream",
     "text": [
      "You said: Good\n"
     ]
    }
   ],
   "source": [
    "prompt = \"Hey, what's up? \"\n",
    "\n",
    "user_input = input(prompt)\n",
    "\n",
    "print(\"You said: \" + user_input)"
   ]
  },
  {
   "cell_type": "code",
   "execution_count": 2,
   "id": "716a097e-8b71-4a32-bb52-adce67ef7e5e",
   "metadata": {},
   "outputs": [
    {
     "name": "stdin",
     "output_type": "stream",
     "text": [
      "Enter the Number to be doubled 5\n"
     ]
    },
    {
     "name": "stdout",
     "output_type": "stream",
     "text": [
      "10\n"
     ]
    }
   ],
   "source": [
    "num = int(input(\"Enter the Number to be doubled\"))\n",
    "doubled_Number = num*2\n",
    "print(doubled_Number)"
   ]
  },
  {
   "cell_type": "code",
   "execution_count": 3,
   "id": "5b388167-dfd8-4eb4-b55f-232cdc965808",
   "metadata": {},
   "outputs": [],
   "source": [
    "name = \"Tesla\""
   ]
  },
  {
   "cell_type": "code",
   "execution_count": 4,
   "id": "50c61b86-701d-46dc-a398-8a63ed5cbb20",
   "metadata": {},
   "outputs": [
    {
     "data": {
      "text/plain": [
       "'TESLA'"
      ]
     },
     "execution_count": 4,
     "metadata": {},
     "output_type": "execute_result"
    }
   ],
   "source": [
    "name.upper()"
   ]
  },
  {
   "cell_type": "code",
   "execution_count": 5,
   "id": "f838652c-751d-4fb2-a818-ae14e482d4a0",
   "metadata": {},
   "outputs": [
    {
     "data": {
      "text/plain": [
       "'tesla'"
      ]
     },
     "execution_count": 5,
     "metadata": {},
     "output_type": "execute_result"
    }
   ],
   "source": [
    "name.lower()"
   ]
  },
  {
   "cell_type": "code",
   "execution_count": 6,
   "id": "350b3e29-83a2-48cd-bbd8-94416e950230",
   "metadata": {},
   "outputs": [
    {
     "data": {
      "text/plain": [
       "'Tesla'"
      ]
     },
     "execution_count": 6,
     "metadata": {},
     "output_type": "execute_result"
    }
   ],
   "source": [
    "name.capitalize()"
   ]
  },
  {
   "cell_type": "code",
   "execution_count": 7,
   "id": "e34aced8-e5da-4c08-8446-86d62ba050c4",
   "metadata": {},
   "outputs": [
    {
     "data": {
      "text/plain": [
       "True"
      ]
     },
     "execution_count": 7,
     "metadata": {},
     "output_type": "execute_result"
    }
   ],
   "source": [
    "name.isalpha()"
   ]
  },
  {
   "cell_type": "code",
   "execution_count": 8,
   "id": "806329c4-da46-44d2-9d93-00879cd9b232",
   "metadata": {},
   "outputs": [
    {
     "data": {
      "text/plain": [
       "False"
      ]
     },
     "execution_count": 8,
     "metadata": {},
     "output_type": "execute_result"
    }
   ],
   "source": [
    "starship = \"Enterprise\"\n",
    "\n",
    "starship.startswith(\"en\")"
   ]
  },
  {
   "cell_type": "code",
   "execution_count": 9,
   "id": "e46fc05d-6261-4ff8-b544-db9ef7261173",
   "metadata": {},
   "outputs": [
    {
     "data": {
      "text/plain": [
       "True"
      ]
     },
     "execution_count": 9,
     "metadata": {},
     "output_type": "execute_result"
    }
   ],
   "source": [
    "starship.endswith(\"rise\")"
   ]
  },
  {
   "cell_type": "code",
   "execution_count": 10,
   "id": "74943b00-9c95-4519-b889-5c8f79343399",
   "metadata": {},
   "outputs": [],
   "source": [
    "txt = \"I like data\""
   ]
  },
  {
   "cell_type": "code",
   "execution_count": 11,
   "id": "8e62c8c1-fa3f-4246-80bf-8ba8b4853d1d",
   "metadata": {},
   "outputs": [],
   "source": [
    "x = txt.replace(\"data\", \"datascience\")"
   ]
  },
  {
   "cell_type": "code",
   "execution_count": 12,
   "id": "0dfcb86a-7c07-4faa-995c-5de3435ac40d",
   "metadata": {},
   "outputs": [
    {
     "data": {
      "text/plain": [
       "'I like datascience'"
      ]
     },
     "execution_count": 12,
     "metadata": {},
     "output_type": "execute_result"
    }
   ],
   "source": [
    "x"
   ]
  },
  {
   "cell_type": "code",
   "execution_count": 13,
   "id": "a3ff4026-b307-4e01-a95e-8da450ff393b",
   "metadata": {},
   "outputs": [],
   "source": [
    "phrase = \"the surprise is in here somewhere\"\n",
    "\n"
   ]
  },
  {
   "cell_type": "code",
   "execution_count": 14,
   "id": "17429474-d853-4b00-bf1b-cb3d571a96ba",
   "metadata": {},
   "outputs": [
    {
     "data": {
      "text/plain": [
       "4"
      ]
     },
     "execution_count": 14,
     "metadata": {},
     "output_type": "execute_result"
    }
   ],
   "source": [
    "phrase.find(\"surprise\")"
   ]
  },
  {
   "cell_type": "code",
   "execution_count": 15,
   "id": "89cdce2a-6c49-4eb1-9573-499bfe874e65",
   "metadata": {},
   "outputs": [
    {
     "data": {
      "text/plain": [
       "4"
      ]
     },
     "execution_count": 15,
     "metadata": {},
     "output_type": "execute_result"
    }
   ],
   "source": [
    "phrase.index('surprise')"
   ]
  },
  {
   "cell_type": "code",
   "execution_count": 16,
   "id": "d8390ad2-b0a9-4c62-bbca-8accde0694c1",
   "metadata": {},
   "outputs": [
    {
     "data": {
      "text/plain": [
       "['Hello', 'this', 'is', 'data', 'mining']"
      ]
     },
     "execution_count": 16,
     "metadata": {},
     "output_type": "execute_result"
    }
   ],
   "source": [
    "text = \"Hello this is data mining\"\n",
    "\n",
    "# splits at space\n",
    "\n",
    "text.split()"
   ]
  },
  {
   "cell_type": "code",
   "execution_count": 17,
   "id": "16e227ab-0e00-42eb-9486-d43ac3902980",
   "metadata": {},
   "outputs": [
    {
     "data": {
      "text/plain": [
       "['Hello this is data mining']"
      ]
     },
     "execution_count": 17,
     "metadata": {},
     "output_type": "execute_result"
    }
   ],
   "source": [
    "text.split(\":\")"
   ]
  },
  {
   "cell_type": "code",
   "execution_count": 18,
   "id": "feac47ad-2106-4891-93b2-9d13965e0395",
   "metadata": {},
   "outputs": [
    {
     "name": "stdout",
     "output_type": "stream",
     "text": [
      "['Hello,World', ', DataTrained']\n"
     ]
    }
   ],
   "source": [
    "tex = \"Hello,World:, DataTrained\"\n",
    "\n",
    "\n",
    "\n",
    "print(tex.split(\":\"))"
   ]
  },
  {
   "cell_type": "code",
   "execution_count": 19,
   "id": "0fe80d28-b24d-4ebb-9dda-38d764ae66d0",
   "metadata": {},
   "outputs": [
    {
     "name": "stdin",
     "output_type": "stream",
     "text": [
      "Input HELLO\n"
     ]
    },
    {
     "name": "stdout",
     "output_type": "stream",
     "text": [
      "hello\n"
     ]
    }
   ],
   "source": [
    "n = input(\"Input\")\n",
    "n = n.lower()\n",
    "print(n)"
   ]
  },
  {
   "cell_type": "code",
   "execution_count": 20,
   "id": "bef1061c-6eed-4922-9270-c0818cbf59b9",
   "metadata": {},
   "outputs": [
    {
     "name": "stdin",
     "output_type": "stream",
     "text": [
      "Input Data\n"
     ]
    },
    {
     "name": "stdout",
     "output_type": "stream",
     "text": [
      "4\n"
     ]
    }
   ],
   "source": [
    "user = input(\"Input\")\n",
    "user = len(user)\n",
    "print(user)"
   ]
  },
  {
   "cell_type": "code",
   "execution_count": null,
   "id": "d2df2723-64f0-4da0-8ee7-d603bb3c2c2d",
   "metadata": {},
   "outputs": [],
   "source": []
  },
  {
   "cell_type": "code",
   "execution_count": 21,
   "id": "86dda6ba-e253-4eb3-bc8c-38c6ee6723ca",
   "metadata": {},
   "outputs": [
    {
     "name": "stdout",
     "output_type": "stream",
     "text": [
      "0\n",
      "1\n",
      "2\n",
      "3\n",
      "4\n",
      "5\n",
      "6\n",
      "7\n",
      "8\n",
      "9\n",
      "10\n"
     ]
    }
   ],
   "source": [
    "i = 0\n",
    "while i <= 10:\n",
    "    print(i)\n",
    "    i = i+1"
   ]
  },
  {
   "cell_type": "code",
   "execution_count": 22,
   "id": "d3b894ca-28e5-41f8-adfe-0deb3a509b5a",
   "metadata": {},
   "outputs": [
    {
     "name": "stdout",
     "output_type": "stream",
     "text": [
      "0\n",
      "1\n",
      "2\n",
      "3\n",
      "4\n",
      "5\n",
      "6\n",
      "7\n",
      "8\n",
      "9\n",
      "10\n"
     ]
    }
   ],
   "source": [
    "for x in range(0,11):\n",
    "    print(x)\n"
   ]
  },
  {
   "cell_type": "code",
   "execution_count": 23,
   "id": "2874ea6a-1921-4838-9e9b-08b68b3505e7",
   "metadata": {},
   "outputs": [],
   "source": [
    "words = ['cat', 'window', 'defenestrate']"
   ]
  },
  {
   "cell_type": "code",
   "execution_count": 24,
   "id": "3723008d-78ba-4ebb-9116-1e33555c2fbd",
   "metadata": {},
   "outputs": [
    {
     "name": "stdout",
     "output_type": "stream",
     "text": [
      "3 for cat\n",
      "6 for window\n",
      "12 for defenestrate\n"
     ]
    }
   ],
   "source": [
    "for i in words:\n",
    "    print(len(i),\"for\", i)"
   ]
  },
  {
   "cell_type": "code",
   "execution_count": 25,
   "id": "829c1ad7-2d14-48cb-ba7f-19df4be1cb67",
   "metadata": {},
   "outputs": [
    {
     "data": {
      "text/plain": [
       "[0, 1, 2, 3, 4, 5, 6, 7, 8]"
      ]
     },
     "execution_count": 25,
     "metadata": {},
     "output_type": "execute_result"
    }
   ],
   "source": [
    "\n",
    "list(range(9))"
   ]
  },
  {
   "cell_type": "code",
   "execution_count": 26,
   "id": "5d17dc5f-661c-442c-a46c-740397891f3d",
   "metadata": {},
   "outputs": [
    {
     "name": "stdout",
     "output_type": "stream",
     "text": [
      "0\n",
      "1\n",
      "2\n",
      "3\n",
      "4\n"
     ]
    }
   ],
   "source": [
    "a = ['Mary', 'had', 'a', 'little', 'lamb']\n",
    "for i in range(len(a)):\n",
    "    print(i)\n",
    "               "
   ]
  },
  {
   "cell_type": "code",
   "execution_count": 27,
   "id": "91da04d1-a463-44c2-bcb1-b2e3b4b15fb3",
   "metadata": {},
   "outputs": [
    {
     "name": "stdout",
     "output_type": "stream",
     "text": [
      "x is greater than y\n"
     ]
    }
   ],
   "source": [
    "x=8\n",
    "\n",
    "y=4\n",
    "\n",
    "if(x < y):\n",
    "\n",
    "    st= \"x is less than y\"\n",
    "\n",
    "else:\n",
    "\n",
    "    st= \"x is greater than y\"\n",
    "\n",
    "print (st)"
   ]
  },
  {
   "cell_type": "code",
   "execution_count": 28,
   "id": "b3dcdff5-871d-4cce-ab99-11a2ffd95e84",
   "metadata": {},
   "outputs": [
    {
     "name": "stdin",
     "output_type": "stream",
     "text": [
      "Enter a Number 5\n"
     ]
    },
    {
     "name": "stdout",
     "output_type": "stream",
     "text": [
      "Positive\n"
     ]
    }
   ],
   "source": [
    "x = int(input(\"Enter a Number\"))\n",
    "\n",
    "if x<0:\n",
    "    print(\"Negative\")\n",
    "elif x==0:\n",
    "        print(\"Zero\")\n",
    "else:\n",
    "    print(\"Positive\")\n",
    "        \n",
    "        "
   ]
  },
  {
   "cell_type": "code",
   "execution_count": 29,
   "id": "a5d7c12f-f713-48d3-9634-35a16cf309e0",
   "metadata": {},
   "outputs": [
    {
     "name": "stdout",
     "output_type": "stream",
     "text": [
      "Even 2\n",
      "Odd 3\n",
      "Even 4\n",
      "Odd 5\n",
      "Even 6\n",
      "Odd 7\n",
      "Even 8\n",
      "Odd 9\n",
      "Even 10\n"
     ]
    }
   ],
   "source": [
    "for x in range(2,11):\n",
    "    if x%2==0:\n",
    "        print(\"Even\", x)\n",
    "    else:\n",
    "        print(\"Odd\", x)"
   ]
  },
  {
   "cell_type": "code",
   "execution_count": 30,
   "id": "45014730-2ae3-41a5-a12e-16e272ad3c1d",
   "metadata": {},
   "outputs": [
    {
     "name": "stdout",
     "output_type": "stream",
     "text": [
      "Found an even number 2\n",
      "Found an even number 4\n",
      "Found an even number 6\n",
      "Found an even number 8\n",
      "Found a number 9\n"
     ]
    }
   ],
   "source": [
    "for num in range(2, 10):\n",
    "\n",
    "    if num % 2 == 0:\n",
    "\n",
    "        print(\"Found an even number\", num)\n",
    "\n",
    "        continue\n",
    "\n",
    "print(\"Found a number\", num)"
   ]
  },
  {
   "cell_type": "code",
   "execution_count": 31,
   "id": "846e3d20-f83e-445c-a151-bb6d07d1067e",
   "metadata": {},
   "outputs": [
    {
     "name": "stdout",
     "output_type": "stream",
     "text": [
      "11\n",
      "13\n"
     ]
    }
   ],
   "source": [
    "for x in range(10, 20):\n",
    "    if (x == 15): \n",
    "        break\n",
    "    if (x%2==0): \n",
    "        continue \n",
    "    print(x)    \n",
    "    "
   ]
  },
  {
   "cell_type": "code",
   "execution_count": 32,
   "id": "5026ce01-e3f4-4a61-9e9c-6d6c7e90129d",
   "metadata": {},
   "outputs": [
    {
     "name": "stdout",
     "output_type": "stream",
     "text": [
      "19\n"
     ]
    }
   ],
   "source": [
    "for x in range (10,20):\n",
    "\n",
    "   #if (x == 15): break\n",
    "\n",
    "   if (x % 5 == 0) : \n",
    "        continue\n",
    "print(x)"
   ]
  },
  {
   "cell_type": "code",
   "execution_count": 33,
   "id": "385cd3c9-15a1-4f9e-acea-3943caa3b1e7",
   "metadata": {},
   "outputs": [
    {
     "name": "stdout",
     "output_type": "stream",
     "text": [
      "10\n",
      "20\n",
      "55\n"
     ]
    }
   ],
   "source": [
    "num_list = [10, 20, 33, 46, 55]\n",
    "\n",
    "for i in num_list:\n",
    "    if i%5==0:\n",
    "        print(i)"
   ]
  },
  {
   "cell_type": "code",
   "execution_count": 34,
   "id": "9655137e-644d-470e-b0df-b1f09da5160d",
   "metadata": {},
   "outputs": [
    {
     "name": "stdout",
     "output_type": "stream",
     "text": [
      "Given list: [10, 20, 33, 46, 55]\n",
      "Divisible by 5:\n",
      "10\n",
      "20\n",
      "55\n"
     ]
    }
   ],
   "source": [
    "num_list = [10, 20, 33, 46, 55]\n",
    "\n",
    "print(\"Given list:\", num_list)\n",
    "\n",
    "print('Divisible by 5:')\n",
    "\n",
    "for num in num_list:\n",
    "\n",
    "    if num % 5 == 0:\n",
    "\n",
    "        print(num)"
   ]
  },
  {
   "cell_type": "markdown",
   "id": "562d3f46-65ae-4e73-b53b-22c7956da5d4",
   "metadata": {},
   "source": [
    "### Calculate the sum of all numbers from 1 to a given number"
   ]
  },
  {
   "cell_type": "code",
   "execution_count": 35,
   "id": "af0d3f0c-e1ee-4273-926b-1033e6349d76",
   "metadata": {},
   "outputs": [
    {
     "name": "stdin",
     "output_type": "stream",
     "text": [
      "Enter number  5\n"
     ]
    },
    {
     "name": "stdout",
     "output_type": "stream",
     "text": [
      "\n",
      "\n",
      "Sum is:  15\n"
     ]
    }
   ],
   "source": [
    "# s: store sum of all numbers\n",
    "\n",
    "s = 0\n",
    "\n",
    "n = int(input(\"Enter number \"))\n",
    "\n",
    "# run loop n times\n",
    "\n",
    "# stop: n+1 (because range never include stop number in result)\n",
    "\n",
    "for i in range(1, n + 1, 1):\n",
    "\n",
    "    # add current number to sum variable\n",
    "\n",
    "    s =s+i\n",
    "\n",
    "print(\"\\n\")\n",
    "\n",
    "print(\"Sum is: \", s)"
   ]
  },
  {
   "cell_type": "markdown",
   "id": "03821d29-0494-410b-9b71-5cb34cc7eef0",
   "metadata": {},
   "source": [
    "### Write a program to print multiplication table of a given number"
   ]
  },
  {
   "cell_type": "code",
   "execution_count": 36,
   "id": "355c98c6-a7e7-4bf8-b6e9-556ba4626674",
   "metadata": {},
   "outputs": [
    {
     "name": "stdout",
     "output_type": "stream",
     "text": [
      "2\n",
      "4\n",
      "6\n",
      "8\n",
      "10\n",
      "12\n",
      "14\n",
      "16\n",
      "18\n",
      "20\n"
     ]
    }
   ],
   "source": [
    "for i in range(1,11):\n",
    "    print(i*2)"
   ]
  },
  {
   "cell_type": "code",
   "execution_count": 1,
   "id": "a6e11e61-323b-4819-b769-dba51a9d6458",
   "metadata": {},
   "outputs": [
    {
     "name": "stdin",
     "output_type": "stream",
     "text": [
      "Enter a Number 2\n"
     ]
    },
    {
     "name": "stdout",
     "output_type": "stream",
     "text": [
      "2\n",
      "4\n",
      "6\n",
      "8\n",
      "10\n",
      "12\n",
      "14\n",
      "16\n",
      "18\n",
      "20\n"
     ]
    }
   ],
   "source": [
    "num = int(input(\"Enter a Number\"))\n",
    "\n",
    "for i in range (1,11):\n",
    "    print(i*num)\n",
    "          "
   ]
  },
  {
   "cell_type": "code",
   "execution_count": null,
   "id": "93144af0-f5dc-4f40-8e8f-38ce69814f1a",
   "metadata": {},
   "outputs": [],
   "source": []
  },
  {
   "cell_type": "code",
   "execution_count": 38,
   "id": "416a690c-de29-499c-883e-b07adbc54556",
   "metadata": {},
   "outputs": [
    {
     "name": "stdout",
     "output_type": "stream",
     "text": [
      "2\n",
      "4\n",
      "6\n",
      "8\n",
      "10\n",
      "12\n",
      "14\n",
      "16\n",
      "18\n",
      "20\n"
     ]
    }
   ],
   "source": [
    "n = 2\n",
    "\n",
    "# stop: 11 (because range never include stop number in result)\n",
    "\n",
    "# run loop 10 times\n",
    "\n",
    "for i in range(1, 11, 1):\n",
    "\n",
    "    # 2 *i (current number)\n",
    "\n",
    "    product = n * i\n",
    "\n",
    "    print(product)"
   ]
  },
  {
   "cell_type": "code",
   "execution_count": 39,
   "id": "7181ac22-86e9-4781-bc83-695799b1e96a",
   "metadata": {},
   "outputs": [
    {
     "data": {
      "text/plain": [
       "['banana', 'loganberry', 'passion fruit']"
      ]
     },
     "execution_count": 39,
     "metadata": {},
     "output_type": "execute_result"
    }
   ],
   "source": [
    "freshfruit = [' banana', ' loganberry ', 'passion fruit ']\n",
    "\n",
    "[weapon.strip() for weapon in freshfruit]"
   ]
  },
  {
   "cell_type": "code",
   "execution_count": 40,
   "id": "03788235-076e-4f32-bd8b-d32fa8bc256e",
   "metadata": {},
   "outputs": [
    {
     "data": {
      "text/plain": [
       "[(0, 0), (1, 1), (2, 4), (3, 9), (4, 16), (5, 25)]"
      ]
     },
     "execution_count": 40,
     "metadata": {},
     "output_type": "execute_result"
    }
   ],
   "source": [
    "[(x, x**2) for x in range(6)]"
   ]
  },
  {
   "cell_type": "code",
   "execution_count": 41,
   "id": "f0d9cca9-e12a-44da-a0ca-7a597188d131",
   "metadata": {},
   "outputs": [
    {
     "name": "stdout",
     "output_type": "stream",
     "text": [
      "apple\n",
      "banana\n",
      "orange\n",
      "pear\n"
     ]
    }
   ],
   "source": [
    "basket = ['apple', 'orange', 'apple', 'pear', 'orange', 'banana']\n",
    "\n",
    "for f in sorted(set(basket)):\n",
    "\n",
    "    print(f)"
   ]
  },
  {
   "cell_type": "code",
   "execution_count": 42,
   "id": "9fff9fcd-4e9f-447d-ab95-4ba81df77069",
   "metadata": {},
   "outputs": [
    {
     "name": "stdout",
     "output_type": "stream",
     "text": [
      "9\n",
      "7\n",
      "5\n",
      "3\n",
      "1\n"
     ]
    }
   ],
   "source": [
    "for i in reversed(range(1, 10, 2)):\n",
    "\n",
    "    print(i)"
   ]
  },
  {
   "cell_type": "code",
   "execution_count": 43,
   "id": "a6483501-b7a5-4afa-8472-fed10c542401",
   "metadata": {},
   "outputs": [],
   "source": [
    "def sq(x):\n",
    "    return x*2\n"
   ]
  },
  {
   "cell_type": "code",
   "execution_count": 44,
   "id": "423f20b5-9031-4bdc-bbcf-aa22cafeb260",
   "metadata": {},
   "outputs": [
    {
     "data": {
      "text/plain": [
       "4"
      ]
     },
     "execution_count": 44,
     "metadata": {},
     "output_type": "execute_result"
    }
   ],
   "source": [
    "sq(2)"
   ]
  },
  {
   "cell_type": "code",
   "execution_count": 45,
   "id": "70cfabe5-f0fe-4a15-9db4-ef61657ff62a",
   "metadata": {},
   "outputs": [],
   "source": [
    "def qw(x):\n",
    "    if x%2==0:\n",
    "        return(\"Even\")\n",
    "    else:\n",
    "        return(\"Odd\")"
   ]
  },
  {
   "cell_type": "code",
   "execution_count": 46,
   "id": "b73e6d93-6ac3-47d8-8f5d-4e5673a956f9",
   "metadata": {},
   "outputs": [
    {
     "data": {
      "text/plain": [
       "'Odd'"
      ]
     },
     "execution_count": 46,
     "metadata": {},
     "output_type": "execute_result"
    }
   ],
   "source": [
    "qw(3)"
   ]
  },
  {
   "cell_type": "code",
   "execution_count": 47,
   "id": "a790aac2-e10f-4fef-9c36-c1130d109f70",
   "metadata": {},
   "outputs": [
    {
     "data": {
      "text/plain": [
       "'Even'"
      ]
     },
     "execution_count": 47,
     "metadata": {},
     "output_type": "execute_result"
    }
   ],
   "source": [
    "qw(4)"
   ]
  },
  {
   "cell_type": "code",
   "execution_count": 48,
   "id": "f8800fec-d12e-4ca2-9af6-91f0b75ec635",
   "metadata": {},
   "outputs": [],
   "source": [
    "def add_numbers(x,y):\n",
    "    sum = x + y\n",
    "    return sum\n"
   ]
  },
  {
   "cell_type": "code",
   "execution_count": 49,
   "id": "25e1dbac-c78e-4fc5-ae69-2fed81b6e4be",
   "metadata": {},
   "outputs": [
    {
     "data": {
      "text/plain": [
       "16"
      ]
     },
     "execution_count": 49,
     "metadata": {},
     "output_type": "execute_result"
    }
   ],
   "source": [
    "add_numbers(4, 12)"
   ]
  },
  {
   "cell_type": "code",
   "execution_count": 50,
   "id": "669016d4-b9e6-4b8e-bc1a-04845486f00b",
   "metadata": {},
   "outputs": [],
   "source": [
    "def greet(name, msg):\n",
    "    \"\"\"This function greets to\n",
    "    the person with the provided message\"\"\"\n",
    "    print(\"Hello\", name + ', ' + msg)"
   ]
  },
  {
   "cell_type": "code",
   "execution_count": 51,
   "id": "1b268c75-a131-424d-88e0-39a36a0115e5",
   "metadata": {},
   "outputs": [
    {
     "name": "stdout",
     "output_type": "stream",
     "text": [
      "Hello Data, There are 4 task\n"
     ]
    }
   ],
   "source": [
    "greet(\"Data\", \"There are 4 task\")"
   ]
  },
  {
   "cell_type": "code",
   "execution_count": 52,
   "id": "eb197e35-4a05-421a-9036-13df195ca0e5",
   "metadata": {},
   "outputs": [],
   "source": [
    "def wq(name, age):\n",
    "    print(\"Hii\", name, \"your age is\", age)"
   ]
  },
  {
   "cell_type": "code",
   "execution_count": 53,
   "id": "56118b35-4ea4-4099-9b69-1ca4ca6e0ad9",
   "metadata": {},
   "outputs": [
    {
     "name": "stdout",
     "output_type": "stream",
     "text": [
      "Hii Data your age is 28\n"
     ]
    }
   ],
   "source": [
    "wq(\"Data\", 28)"
   ]
  },
  {
   "cell_type": "code",
   "execution_count": 54,
   "id": "e2898044-41e2-43fd-a800-5554a558dd9b",
   "metadata": {},
   "outputs": [],
   "source": [
    "def absolute(num):\n",
    "    if num>=0:\n",
    "        return num\n",
    "    else:\n",
    "        return -num"
   ]
  },
  {
   "cell_type": "code",
   "execution_count": 55,
   "id": "21ed3c25-9b72-4b07-996d-baa67e3586ba",
   "metadata": {},
   "outputs": [
    {
     "name": "stdout",
     "output_type": "stream",
     "text": [
      "4\n",
      "4\n"
     ]
    }
   ],
   "source": [
    "print(absolute(-4))\n",
    "print(absolute(4))"
   ]
  },
  {
   "cell_type": "code",
   "execution_count": 56,
   "id": "17b706e9-4f3d-4310-ba1e-879be387f492",
   "metadata": {},
   "outputs": [],
   "source": [
    "def mul(x,y):\n",
    "    return(x*y)"
   ]
  },
  {
   "cell_type": "code",
   "execution_count": 57,
   "id": "657c0b9c-c6df-48a2-bbbc-a8465352f462",
   "metadata": {},
   "outputs": [
    {
     "data": {
      "text/plain": [
       "20"
      ]
     },
     "execution_count": 57,
     "metadata": {},
     "output_type": "execute_result"
    }
   ],
   "source": [
    "mul(4,5)"
   ]
  },
  {
   "cell_type": "code",
   "execution_count": 58,
   "id": "e0c86e7a-541c-4295-90ee-607c0cc9374a",
   "metadata": {},
   "outputs": [],
   "source": [
    "def div(x,y):\n",
    "    return(x//y)"
   ]
  },
  {
   "cell_type": "code",
   "execution_count": 59,
   "id": "a3b91029-13f9-4560-9d0f-50d44164b7fe",
   "metadata": {},
   "outputs": [
    {
     "data": {
      "text/plain": [
       "5"
      ]
     },
     "execution_count": 59,
     "metadata": {},
     "output_type": "execute_result"
    }
   ],
   "source": [
    "div(10,2)"
   ]
  },
  {
   "cell_type": "code",
   "execution_count": 60,
   "id": "15384b39-815e-416e-b1be-c1dc21723727",
   "metadata": {},
   "outputs": [
    {
     "name": "stdout",
     "output_type": "stream",
     "text": [
      "Value inside function: 19\n",
      "Value outside function: 20\n"
     ]
    }
   ],
   "source": [
    "def my_func():\n",
    "    x = 10\n",
    "print(\"Value inside function:\",x)\n",
    "x = 20\n",
    "my_func()\n",
    "print(\"Value outside function:\",x)\n"
   ]
  },
  {
   "cell_type": "code",
   "execution_count": 61,
   "id": "06ee2e50-b398-4de5-b7be-0bc4d8857e2c",
   "metadata": {},
   "outputs": [
    {
     "name": "stdout",
     "output_type": "stream",
     "text": [
      "[10, 8, 7, 5, 11]\n"
     ]
    }
   ],
   "source": [
    "sequences = [10,2,8,7,5,4,3,11,0, 1]\n",
    "filtered_result = filter (lambda x: x > 4, sequences)\n",
    "print(list(filtered_result))"
   ]
  },
  {
   "cell_type": "code",
   "execution_count": 62,
   "id": "ec047801-8651-4633-9f88-716e50ab30a9",
   "metadata": {},
   "outputs": [
    {
     "name": "stdout",
     "output_type": "stream",
     "text": [
      "[0, 1, 4, 9, 16, 25, 36, 49, 64, 81]\n"
     ]
    }
   ],
   "source": [
    "squares = []\n",
    "for x in range(10):\n",
    "    squares.append(x**2)\n",
    "print(squares)"
   ]
  },
  {
   "cell_type": "code",
   "execution_count": 63,
   "id": "0ac54d41-b815-4d77-96d9-589d280d7987",
   "metadata": {},
   "outputs": [
    {
     "name": "stdout",
     "output_type": "stream",
     "text": [
      "[0, 1, 4, 9, 16, 25, 36, 49, 64, 81]\n"
     ]
    }
   ],
   "source": [
    "lists = []\n",
    "\n",
    "for x in range(10):\n",
    "    lists.append(x**2)\n",
    "print(lists)    "
   ]
  },
  {
   "cell_type": "code",
   "execution_count": 64,
   "id": "0667b97f-ea17-42c3-bb1b-c41d8b1aad09",
   "metadata": {},
   "outputs": [],
   "source": [
    "def mul_sum(num_1, num_2):\n",
    "    prod = num_1*num_2\n",
    "    if prod<=1000:\n",
    "        print(prod)\n",
    "    else:\n",
    "        print(num_1+num_2)"
   ]
  },
  {
   "cell_type": "code",
   "execution_count": 65,
   "id": "dfbbc04a-971a-4c43-b3a8-fc5a03a9ac14",
   "metadata": {},
   "outputs": [
    {
     "name": "stdout",
     "output_type": "stream",
     "text": [
      "90\n"
     ]
    }
   ],
   "source": [
    "mul_sum(40, 50)"
   ]
  },
  {
   "cell_type": "code",
   "execution_count": 66,
   "id": "21073b86-073b-4013-8f56-9b247450b734",
   "metadata": {},
   "outputs": [
    {
     "name": "stdout",
     "output_type": "stream",
     "text": [
      "1190\n"
     ]
    }
   ],
   "source": [
    "mul_sum(590, 600)"
   ]
  },
  {
   "cell_type": "code",
   "execution_count": 67,
   "id": "44dcf85c-f671-46cd-a654-c4fc7dc1d833",
   "metadata": {},
   "outputs": [
    {
     "name": "stdout",
     "output_type": "stream",
     "text": [
      "950\n"
     ]
    }
   ],
   "source": [
    "mul_sum(50, 19)"
   ]
  },
  {
   "cell_type": "code",
   "execution_count": 68,
   "id": "10758600-09e6-474f-9820-f16becd31c6a",
   "metadata": {},
   "outputs": [],
   "source": [
    "def f_l(number_list):\n",
    "    first_num = [0]\n",
    "    last_num = [-1]\n",
    "    if first_num == last_num:\n",
    "        return True\n",
    "    else:\n",
    "        return False"
   ]
  },
  {
   "cell_type": "code",
   "execution_count": 69,
   "id": "e926eb25-bc0f-4112-9fd7-afa069a3b02a",
   "metadata": {},
   "outputs": [
    {
     "name": "stdout",
     "output_type": "stream",
     "text": [
      "result is False\n",
      "result is False\n"
     ]
    }
   ],
   "source": [
    "numbers_x = [10, 20, 30, 40, 10]\n",
    "print(\"result is\", f_l(numbers_x))\n",
    "numbers_y = [75, 65, 35, 75, 75]\n",
    "print(\"result is\", f_l(numbers_y))"
   ]
  },
  {
   "cell_type": "code",
   "execution_count": 70,
   "id": "b0a2d897-ed23-4e85-aa1e-2a6d40a61b55",
   "metadata": {},
   "outputs": [],
   "source": [
    "def first_last_same(numberList):\n",
    "    print(\"Given list:\", numberList)\n",
    "    first_num = numberList[0]\n",
    "    last_num = numberList[-1]\n",
    "    if first_num == last_num:\n",
    "        return True\n",
    "    else:\n",
    "        return False\n"
   ]
  },
  {
   "cell_type": "code",
   "execution_count": 71,
   "id": "9b3119f3-5e63-4b63-8725-7f61608f3ad7",
   "metadata": {},
   "outputs": [
    {
     "name": "stdout",
     "output_type": "stream",
     "text": [
      "Given list: [10, 20, 30, 40, 10]\n",
      "result is True\n",
      "Given list: [75, 65, 35, 75, 30]\n",
      "result is False\n"
     ]
    }
   ],
   "source": [
    "numbers_x = [10, 20, 30, 40, 10]\n",
    "print(\"result is\", first_last_same(numbers_x))\n",
    "numbers_y = [75, 65, 35, 75, 30]\n",
    "print(\"result is\", first_last_same(numbers_y))\n"
   ]
  },
  {
   "cell_type": "code",
   "execution_count": 72,
   "id": "2ffb1e57-0ce9-429f-ba95-376c5e265835",
   "metadata": {},
   "outputs": [
    {
     "data": {
      "text/plain": [
       "-4.5"
      ]
     },
     "execution_count": 72,
     "metadata": {},
     "output_type": "execute_result"
    }
   ],
   "source": [
    "class Complex:\n",
    "\n",
    "    def __init__(self, realpart, imagpart):\n",
    "\n",
    "        self.r = realpart\n",
    "        self.i = imagpart\n",
    "\n",
    "x = Complex(3.0, -4.5)\n",
    "\n",
    "x.r\n",
    "\n",
    "x.i"
   ]
  },
  {
   "cell_type": "code",
   "execution_count": 73,
   "id": "7068e3d0-037f-4a61-bb3b-a70bd17bbb3b",
   "metadata": {},
   "outputs": [
    {
     "name": "stdin",
     "output_type": "stream",
     "text": [
      "Your Name Mayank\n",
      "Your age 28\n"
     ]
    },
    {
     "name": "stdout",
     "output_type": "stream",
     "text": [
      "2094\n"
     ]
    }
   ],
   "source": [
    "name = str(input(\"Your Name\"))\n",
    "age = int(input(\"Your age\"))\n",
    "\n",
    "print(2022 - age +100)"
   ]
  },
  {
   "cell_type": "code",
   "execution_count": 74,
   "id": "2b8d6c3a-42f3-4d44-bf1f-18c0cfef0e9a",
   "metadata": {},
   "outputs": [
    {
     "name": "stdin",
     "output_type": "stream",
     "text": [
      "Enter a Number 5\n"
     ]
    },
    {
     "name": "stdout",
     "output_type": "stream",
     "text": [
      "Odd\n"
     ]
    }
   ],
   "source": [
    "num = int(input(\"Enter a Number\"))\n",
    "\n",
    "if num%2==0:\n",
    "    print(\"Even\")\n",
    "else:\n",
    "    print(\"Odd\")"
   ]
  },
  {
   "cell_type": "markdown",
   "id": "4efcfa4c-7e9b-4eb2-b8de-24f3a0b2a793",
   "metadata": {},
   "source": [
    "##### Ask the user for two numbers: one number to check (call it num) and one number to divide by (check). If check divides evenly into num, tell that to the user. If not, print a different appropriate message"
   ]
  },
  {
   "cell_type": "code",
   "execution_count": 75,
   "id": "b4ac1c7b-e743-4f30-8ea5-a251d8235e07",
   "metadata": {},
   "outputs": [
    {
     "name": "stdin",
     "output_type": "stream",
     "text": [
      "Enter a number 5\n",
      "Entera number 2 36\n"
     ]
    },
    {
     "name": "stdout",
     "output_type": "stream",
     "text": [
      "Not Evenly Divided\n"
     ]
    }
   ],
   "source": [
    "num = int(input(\"Enter a number\"))\n",
    "check = int(input(\"Entera number 2\"))\n",
    "\n",
    "if num%check ==0:\n",
    "    print(\"Evenly Divided\")\n",
    "else:\n",
    "    print(\"Not Evenly Divided\")\n",
    "\n",
    "          "
   ]
  },
  {
   "cell_type": "code",
   "execution_count": null,
   "id": "5141e604-a4e3-4839-b400-335973b6bbdd",
   "metadata": {},
   "outputs": [],
   "source": []
  },
  {
   "cell_type": "code",
   "execution_count": 76,
   "id": "2cff66b1-6a46-4109-8ea9-e6b631113ddc",
   "metadata": {},
   "outputs": [
    {
     "name": "stdout",
     "output_type": "stream",
     "text": [
      "1 1 2 3 5 8 "
     ]
    }
   ],
   "source": [
    "a = [1, 1, 2, 3, 5, 8, 13, 21, 34, 55, 89]\n",
    "\n",
    "for i in a:\n",
    "    if i <=10:\n",
    "        print(i, end = ' ')\n",
    "    \n",
    "    "
   ]
  },
  {
   "cell_type": "code",
   "execution_count": 77,
   "id": "d9a588cf-3935-47f2-a6a1-2e57be693e4e",
   "metadata": {},
   "outputs": [
    {
     "name": "stdout",
     "output_type": "stream",
     "text": [
      "[1, 1, 2, 3, 5, 8]\n"
     ]
    }
   ],
   "source": [
    "print([x for x in a if x<=10])"
   ]
  },
  {
   "cell_type": "code",
   "execution_count": 78,
   "id": "c5224994-ca3b-46fa-8f14-a6706c06adbe",
   "metadata": {},
   "outputs": [
    {
     "name": "stdout",
     "output_type": "stream",
     "text": [
      "[1]\n",
      "[1, 1]\n",
      "[1, 1, 2]\n",
      "[1, 1, 2, 3]\n",
      "[1, 1, 2, 3, 5]\n",
      "[1, 1, 2, 3, 5, 8]\n"
     ]
    }
   ],
   "source": [
    "a = [1, 1, 2, 3, 5, 8, 13, 21, 34, 55, 89]\n",
    "lists = []\n",
    "\n",
    "for i in a:\n",
    "    if i<10:\n",
    "        lists.append(i)\n",
    "        print(lists)"
   ]
  },
  {
   "cell_type": "code",
   "execution_count": 79,
   "id": "cbb7d6cd-ae3e-4e0d-8d74-71e6bd4bfb4b",
   "metadata": {},
   "outputs": [
    {
     "name": "stdout",
     "output_type": "stream",
     "text": [
      "1 1 2 3 5 8 "
     ]
    }
   ],
   "source": [
    "a = [1, 1, 2, 3, 5, 8, 13, 21, 34, 55, 89]\n",
    "lists = []\n",
    "\n",
    "for i in a:\n",
    "    if i<10:\n",
    "        lists.append(i)\n",
    "        print(i, end = ' ')"
   ]
  },
  {
   "cell_type": "code",
   "execution_count": 80,
   "id": "b7654a98-bde1-448c-90a5-28d029b77719",
   "metadata": {},
   "outputs": [
    {
     "name": "stdin",
     "output_type": "stream",
     "text": [
      "Please choose a number to divide:  58\n"
     ]
    },
    {
     "name": "stdout",
     "output_type": "stream",
     "text": [
      "[1, 2, 29, 58]\n"
     ]
    }
   ],
   "source": [
    "num = int(input(\"Please choose a number to divide: \"))\n",
    "\n",
    "listRange = list(range(1,num+1))\n",
    "\n",
    "divisorList = []\n",
    "\n",
    "for number in listRange:\n",
    "    if num % number == 0:\n",
    "        divisorList.append(number)\n",
    "\n",
    "print(divisorList)\n"
   ]
  },
  {
   "cell_type": "code",
   "execution_count": 81,
   "id": "a4a392fb-7c88-4d34-a4fb-95db0550f068",
   "metadata": {},
   "outputs": [],
   "source": [
    "a = [1, 1, 2, 3, 5, 8, 13, 21, 34, 55, 89]\n",
    "b = [1, 2, 3, 4, 5, 6, 7, 8, 9, 10, 11, 12, 13]"
   ]
  },
  {
   "cell_type": "code",
   "execution_count": 82,
   "id": "0015487c-58eb-4ceb-8a1a-1fa1983db53b",
   "metadata": {},
   "outputs": [
    {
     "data": {
      "text/plain": [
       "[21, 34, 55, 89]"
      ]
     },
     "execution_count": 82,
     "metadata": {},
     "output_type": "execute_result"
    }
   ],
   "source": [
    "[x for x in a if x not in b]"
   ]
  },
  {
   "cell_type": "code",
   "execution_count": 83,
   "id": "a1a6d48b-5a1f-420a-b5c9-18163e531386",
   "metadata": {},
   "outputs": [
    {
     "data": {
      "text/plain": [
       "[21, 34, 55, 89]"
      ]
     },
     "execution_count": 83,
     "metadata": {},
     "output_type": "execute_result"
    }
   ],
   "source": [
    "[x for x in a if x not in b]"
   ]
  },
  {
   "cell_type": "code",
   "execution_count": 84,
   "id": "d6c2a2c0-7ef3-4a23-85a6-de3113aa02ea",
   "metadata": {},
   "outputs": [
    {
     "name": "stdout",
     "output_type": "stream",
     "text": [
      "[6, 26, 23]\n"
     ]
    }
   ],
   "source": [
    "list1 = [2, 5, 6, 8,10,26,23,36,57]\n",
    "list2 = [2, 5, 8, 8,10,28,25,36,57,66,70]\n",
    "commonlist = []\n",
    "for a in list1:\n",
    "    if a in list2:\n",
    "        if a in commonlist:\n",
    "            continue\n",
    "    else:\n",
    "        commonlist.append(a)\n",
    "\n",
    "print(commonlist)"
   ]
  },
  {
   "cell_type": "code",
   "execution_count": 85,
   "id": "ae45c0e5-d035-4395-9bf3-798223be406a",
   "metadata": {},
   "outputs": [
    {
     "name": "stdout",
     "output_type": "stream",
     "text": [
      "{1, 2, 3, 34, 5, 4, 6, 8, 7, 9, 10, 11, 13, 12, 21, 55, 89}\n"
     ]
    }
   ],
   "source": [
    "a = [1, 1, 2, 3, 5, 8, 13, 21, 34, 55, 89]\n",
    "b = [1, 2, 3, 4, 5, 6, 7, 8, 9, 10, 11, 12, 13]\n",
    "\n",
    "c = set(a + b)\n",
    "\n",
    "print(c)"
   ]
  },
  {
   "cell_type": "code",
   "execution_count": 86,
   "id": "c62ecb76-35a7-4a30-b9cf-6d9638872c49",
   "metadata": {},
   "outputs": [
    {
     "data": {
      "text/plain": [
       "[1, 2, 3]"
      ]
     },
     "execution_count": 86,
     "metadata": {},
     "output_type": "execute_result"
    }
   ],
   "source": [
    "a = [1, 2, 3, 3]\n",
    "b = [1, 2, 3, 4, 5]\n",
    "\n",
    "list(set(a).intersection(set(b)))"
   ]
  },
  {
   "cell_type": "code",
   "execution_count": 87,
   "id": "40c82e84-4e40-4162-bbae-5ceb4742722b",
   "metadata": {},
   "outputs": [
    {
     "name": "stdout",
     "output_type": "stream",
     "text": [
      "[1, 2, 3, 5, 8, 13]\n"
     ]
    }
   ],
   "source": [
    "a = [1, 1, 2, 3, 5, 8, 13, 21, 34, 55, 89]\n",
    "b = [1, 2, 3, 4, 5, 6, 7, 8, 9, 10, 11, 12, 13]\n",
    "\n",
    "c=set(a).intersection(set(b))\n",
    "print(list(c))"
   ]
  },
  {
   "cell_type": "code",
   "execution_count": 88,
   "id": "b1c6a826-1f3f-434d-a1da-19a3b2807231",
   "metadata": {},
   "outputs": [
    {
     "name": "stdout",
     "output_type": "stream",
     "text": [
      "{1, 2, 3, 5, 8, 13}\n"
     ]
    }
   ],
   "source": [
    "a = [1, 1, 2, 3, 5, 8, 13, 21, 34, 55, 89]\n",
    "b = [1, 2, 3, 4, 5, 6, 7, 8, 9, 10, 11, 12, 13]\n",
    "\n",
    "c = set(a).intersection(set(b))\n",
    "print(c)"
   ]
  },
  {
   "cell_type": "code",
   "execution_count": null,
   "id": "f42527ad-fb60-4d37-99ac-1c03e32c4e6a",
   "metadata": {},
   "outputs": [],
   "source": []
  },
  {
   "cell_type": "code",
   "execution_count": 89,
   "id": "fbb3d896-7f71-4d0e-907c-cb573a72eda5",
   "metadata": {},
   "outputs": [
    {
     "name": "stdin",
     "output_type": "stream",
     "text": [
      "Please enter a word 4\n"
     ]
    },
    {
     "name": "stdout",
     "output_type": "stream",
     "text": [
      "4\n",
      "This word is a palindrome\n"
     ]
    }
   ],
   "source": [
    "wrd=str(input(\"Please enter a word\"))\n",
    "rev = wrd[::-1]\n",
    "print(rev)\n",
    "if wrd == rev:\n",
    "    print(\"This word is a palindrome\")\n",
    "else:\n",
    "    print(\"This word is not a palindrome\")"
   ]
  },
  {
   "cell_type": "code",
   "execution_count": 90,
   "id": "d464c27e-1819-422b-a741-8689b1bb9e09",
   "metadata": {},
   "outputs": [],
   "source": [
    "def reverse(word):\n",
    "\tx = ''\n",
    "\tfor i in range(len(word)):\n",
    "\t\tx += word[len(word)-1-i]\n",
    "\treturn x\n",
    "\n"
   ]
  },
  {
   "cell_type": "code",
   "execution_count": 91,
   "id": "c9fd67b5-5c21-4f05-9be3-5ec874d05cfa",
   "metadata": {},
   "outputs": [
    {
     "data": {
      "text/plain": [
       "'oleH'"
      ]
     },
     "execution_count": 91,
     "metadata": {},
     "output_type": "execute_result"
    }
   ],
   "source": [
    "reverse(\"Helo\")"
   ]
  },
  {
   "cell_type": "code",
   "execution_count": 92,
   "id": "24423b0f-3c70-42e2-870f-649fe60fdc62",
   "metadata": {},
   "outputs": [
    {
     "name": "stdin",
     "output_type": "stream",
     "text": [
      "give me a word:\n",
      " hello\n"
     ]
    },
    {
     "name": "stdout",
     "output_type": "stream",
     "text": [
      "This is NOT a Palindrome\n"
     ]
    }
   ],
   "source": [
    "word = input('give me a word:\\n')\n",
    "x = reverse(word)\n",
    "if x == word:\n",
    "\tprint('This is a Palindrome')\n",
    "else:\n",
    "\tprint('This is NOT a Palindrome')"
   ]
  },
  {
   "cell_type": "code",
   "execution_count": 93,
   "id": "f95bab99-482d-497a-b6c6-c82dc0aa5f95",
   "metadata": {},
   "outputs": [
    {
     "data": {
      "text/plain": [
       "[4, 16, 36, 64, 100]"
      ]
     },
     "execution_count": 93,
     "metadata": {},
     "output_type": "execute_result"
    }
   ],
   "source": [
    "a = [1, 4, 9, 16, 25, 36, 49, 64, 81, 100]\n",
    "\n",
    "[x for x in a if x%2==0]"
   ]
  },
  {
   "cell_type": "code",
   "execution_count": 94,
   "id": "937f0428-394e-44c3-836f-47d0f507af1c",
   "metadata": {},
   "outputs": [
    {
     "name": "stdin",
     "output_type": "stream",
     "text": [
      "Option1 Paper\n",
      "option2 rock\n"
     ]
    }
   ],
   "source": [
    "inp1 = str(input(\"Option1\"))\n",
    "inp2 = str(input(\"option2\"))\n",
    "\n",
    "def comp(u1, u2):\n",
    "    if u1 == u2:\n",
    "        return(\"Tie\")\n",
    "    elif u1 == 'rock':\n",
    "        if u2 == 'scissors':\n",
    "            return ('rock won')\n",
    "        else:\n",
    "            return ('Paper Won')\n",
    "    elif u1 == 'scissors':\n",
    "        if u2 == 'paper':\n",
    "            return(\"scissors won\")\n",
    "        else:\n",
    "            return(\"Paper won\")\n",
    "        \n",
    "          "
   ]
  },
  {
   "cell_type": "code",
   "execution_count": 95,
   "id": "d9b0c983-f4e2-4e7c-b781-e832a82f9624",
   "metadata": {},
   "outputs": [
    {
     "name": "stdin",
     "output_type": "stream",
     "text": [
      "What's your name? data\n",
      "And your name? mayank\n",
      "data, do yo want to choose rock, paper or scissors? paper\n",
      "mayank, do you want to choose rock, paper or scissors? rock\n"
     ]
    },
    {
     "name": "stdout",
     "output_type": "stream",
     "text": [
      "Paper wins!\n",
      "Please pick one:\n",
      "            rock\n",
      "            scissors\n",
      "            paper\n"
     ]
    },
    {
     "name": "stdin",
     "output_type": "stream",
     "text": [
      "Player a:  no\n",
      "Player b:  no\n"
     ]
    },
    {
     "ename": "TypeError",
     "evalue": "unsupported operand type(s) for -: 'NoneType' and 'NoneType'",
     "output_type": "error",
     "traceback": [
      "\u001b[1;31m---------------------------------------------------------------------------\u001b[0m",
      "\u001b[1;31mTypeError\u001b[0m                                 Traceback (most recent call last)",
      "\u001b[1;32mC:\\Users\\DATAMI~1\\AppData\\Local\\Temp/ipykernel_1896/3466010303.py\u001b[0m in \u001b[0;36m<module>\u001b[1;34m\u001b[0m\n\u001b[0;32m     42\u001b[0m     \u001b[0ma\u001b[0m \u001b[1;33m=\u001b[0m \u001b[0mgame_dict\u001b[0m\u001b[1;33m.\u001b[0m\u001b[0mget\u001b[0m\u001b[1;33m(\u001b[0m\u001b[0mplayer_a\u001b[0m\u001b[1;33m)\u001b[0m\u001b[1;33m\u001b[0m\u001b[1;33m\u001b[0m\u001b[0m\n\u001b[0;32m     43\u001b[0m     \u001b[0mb\u001b[0m \u001b[1;33m=\u001b[0m \u001b[0mgame_dict\u001b[0m\u001b[1;33m.\u001b[0m\u001b[0mget\u001b[0m\u001b[1;33m(\u001b[0m\u001b[0mplayer_b\u001b[0m\u001b[1;33m)\u001b[0m\u001b[1;33m\u001b[0m\u001b[1;33m\u001b[0m\u001b[0m\n\u001b[1;32m---> 44\u001b[1;33m     \u001b[0mdif\u001b[0m \u001b[1;33m=\u001b[0m \u001b[0ma\u001b[0m \u001b[1;33m-\u001b[0m \u001b[0mb\u001b[0m\u001b[1;33m\u001b[0m\u001b[1;33m\u001b[0m\u001b[0m\n\u001b[0m\u001b[0;32m     45\u001b[0m \u001b[1;33m\u001b[0m\u001b[0m\n\u001b[0;32m     46\u001b[0m     \u001b[1;32mif\u001b[0m \u001b[0mdif\u001b[0m \u001b[1;32min\u001b[0m \u001b[1;33m[\u001b[0m\u001b[1;33m-\u001b[0m\u001b[1;36m1\u001b[0m\u001b[1;33m,\u001b[0m \u001b[1;36m2\u001b[0m\u001b[1;33m]\u001b[0m\u001b[1;33m:\u001b[0m\u001b[1;33m\u001b[0m\u001b[1;33m\u001b[0m\u001b[0m\n",
      "\u001b[1;31mTypeError\u001b[0m: unsupported operand type(s) for -: 'NoneType' and 'NoneType'"
     ]
    }
   ],
   "source": [
    "import sys\n",
    "\n",
    "user1 = input(\"What's your name?\")\n",
    "user2 = input(\"And your name?\")\n",
    "user1_answer = input(\"%s, do yo want to choose rock, paper or scissors?\" % user1)\n",
    "user2_answer = input(\"%s, do you want to choose rock, paper or scissors?\" % user2)\n",
    "def compare(u1, u2):\n",
    "    if u1 == u2:\n",
    "        return(\"It's a tie!\")\n",
    "    elif u1 == 'rock':\n",
    "        if u2 == 'scissors':\n",
    "            return(\"Rock wins!\")\n",
    "        else:\n",
    "            return(\"Paper wins!\")\n",
    "    elif u1 == 'scissors':\n",
    "        if u2 == 'paper':\n",
    "            return(\"Scissors win!\")\n",
    "        else:\n",
    "            return(\"Rock wins!\")\n",
    "    elif u1 == 'paper':\n",
    "        if u2 == 'rock':\n",
    "            return(\"Paper wins!\")\n",
    "        else:\n",
    "            return(\"Scissors win!\")\n",
    "    else:\n",
    "        return(\"Invalid input! You have not entered rock, paper or scissors, try again.\")\n",
    "        sys.exit()\n",
    "\n",
    "print(compare(user1_answer, user2_answer))\n",
    "\n",
    "\n",
    "print('''Please pick one:\n",
    "            rock\n",
    "            scissors\n",
    "            paper''')\n",
    "\n",
    "while True:\n",
    "    game_dict = {'rock': 1, 'scissors': 2, 'paper': 3}\n",
    "    player_a = str(input(\"Player a: \"))\n",
    "    player_b = str(input(\"Player b: \"))\n",
    "    a = game_dict.get(player_a)\n",
    "    b = game_dict.get(player_b)\n",
    "    dif = a - b\n",
    "\n",
    "    if dif in [-1, 2]:\n",
    "        print('player a wins.')\n",
    "        if str(input('Do you want to play another game, yes or no?\\n')) == 'yes':\n",
    "            continue\n",
    "        else:\n",
    "            print('game over.')\n",
    "            break\n",
    "    elif dif in [-2, 1]:\n",
    "        print('player b wins.')\n",
    "        if str(input('Do you want to play another game, yes or no?\\n')) == 'yes':\n",
    "            continue\n",
    "        else:\n",
    "            print('game over.')\n",
    "            break\n",
    "    else:\n",
    "        print('Draw.Please continue.')\n",
    "        print('')"
   ]
  },
  {
   "cell_type": "code",
   "execution_count": null,
   "id": "38c8e150-1da1-4d62-bd71-a30684d64dcc",
   "metadata": {},
   "outputs": [],
   "source": []
  },
  {
   "cell_type": "code",
   "execution_count": 96,
   "id": "955494e5-4627-4d84-b295-f52a9717ec3a",
   "metadata": {},
   "outputs": [
    {
     "name": "stdout",
     "output_type": "stream",
     "text": [
      "data\n",
      "management\n",
      "AWS\n"
     ]
    }
   ],
   "source": [
    "data = ['data', 'management', 'AWS', 'server', 'machine learning']\n",
    "for i in data:\n",
    "    if i == 'server':\n",
    "        break;\n",
    "    print(i)    "
   ]
  },
  {
   "cell_type": "code",
   "execution_count": null,
   "id": "8933a902-902b-4df9-a1c0-b79940469843",
   "metadata": {},
   "outputs": [],
   "source": [
    "for i in data:\n",
    "    if i == 'server':\n",
    "        continue;\n",
    "    print(i)    "
   ]
  },
  {
   "cell_type": "code",
   "execution_count": null,
   "id": "905e4c7e-b1b1-4c47-8743-62f00d6788cc",
   "metadata": {},
   "outputs": [],
   "source": [
    "import pandas as pd"
   ]
  },
  {
   "cell_type": "code",
   "execution_count": null,
   "id": "cc402533-df2c-4124-87dc-cf3cdcecfcc0",
   "metadata": {},
   "outputs": [],
   "source": [
    "data = pd.read_csv(\"hardware.csv\")"
   ]
  },
  {
   "cell_type": "code",
   "execution_count": null,
   "id": "b406b576-97b4-4558-8dfe-8c3c10264b94",
   "metadata": {},
   "outputs": [],
   "source": []
  },
  {
   "cell_type": "code",
   "execution_count": null,
   "id": "18500679-b8a6-4e5b-b9ad-02b86aa0f0e1",
   "metadata": {},
   "outputs": [],
   "source": [
    "for i in data['2']:\n",
    "    if i == 3:\n",
    "        continue;\n",
    "    print(i, end = ' ')    \n",
    "    "
   ]
  },
  {
   "cell_type": "code",
   "execution_count": null,
   "id": "5feef628-dacf-4ed4-a886-59aa527106ca",
   "metadata": {},
   "outputs": [],
   "source": [
    "data[data[\"2\"]==3][['Ferguson Engineering', '2']]"
   ]
  },
  {
   "cell_type": "code",
   "execution_count": null,
   "id": "0dbeb717-68b5-46bf-9d76-891599f007ac",
   "metadata": {},
   "outputs": [],
   "source": [
    "d = [100, 200, 300, 400, 500]\n",
    "for i in d:\n",
    "    if i == 400:\n",
    "        break;\n",
    "    print(i)   \n",
    "print(\"End of Loop\")"
   ]
  },
  {
   "cell_type": "code",
   "execution_count": null,
   "id": "f5f79078-fa67-4c77-9117-7448ec2c0107",
   "metadata": {},
   "outputs": [],
   "source": [
    "q = [x for x in data[\"Ferguson Engineering\"]]\n",
    "print(q, end = ' ' )"
   ]
  },
  {
   "cell_type": "code",
   "execution_count": null,
   "id": "b6875fba-6dc3-4d2d-acd4-5807d2d6740e",
   "metadata": {},
   "outputs": [],
   "source": [
    "data.columns"
   ]
  },
  {
   "cell_type": "code",
   "execution_count": null,
   "id": "54446ec3-9926-4c95-83d4-11df11878f29",
   "metadata": {},
   "outputs": [],
   "source": [
    "data[\"Ferguson Engineering\"]"
   ]
  },
  {
   "cell_type": "code",
   "execution_count": null,
   "id": "6cf779c2-f770-4729-aa49-f1ca0f065586",
   "metadata": {},
   "outputs": [],
   "source": [
    "[x for x in range(1,20) if x%2!=0]"
   ]
  },
  {
   "cell_type": "code",
   "execution_count": null,
   "id": "e15cd446-0814-465c-a9f7-edb00122abe4",
   "metadata": {},
   "outputs": [],
   "source": [
    "p = [x for x in data['2'] if x!=3]\n",
    "print(p, end = ' ')"
   ]
  },
  {
   "cell_type": "code",
   "execution_count": null,
   "id": "f615e5f0-10a6-4f40-9fd0-b1579e9d708a",
   "metadata": {},
   "outputs": [],
   "source": [
    "[i**2 for i in range(1,20) if i%2==0] "
   ]
  },
  {
   "cell_type": "code",
   "execution_count": null,
   "id": "fe5bf584-eedf-4798-a5ca-f83ced0e42ac",
   "metadata": {},
   "outputs": [],
   "source": []
  },
  {
   "cell_type": "markdown",
   "id": "d461cde5-2f34-43fb-967d-bd1a2f125f70",
   "metadata": {},
   "source": [
    "#### Program to Swap the list"
   ]
  },
  {
   "cell_type": "code",
   "execution_count": null,
   "id": "ead78d65-a282-4826-8f4b-69907a43a89d",
   "metadata": {},
   "outputs": [],
   "source": [
    "def swaplist(newlist):\n",
    "    newlist[0], newlist[-1] = newlist[-1], newlist[0]\n",
    "    \n",
    "    return newlist\n",
    "    "
   ]
  },
  {
   "cell_type": "code",
   "execution_count": null,
   "id": "324c0907-d421-4440-a561-0db26c82e166",
   "metadata": {},
   "outputs": [],
   "source": [
    "newlist = [1,2,3,444,555,12,3,7]"
   ]
  },
  {
   "cell_type": "code",
   "execution_count": null,
   "id": "89d9d5c2-2098-4257-abfd-01ad6a5c0786",
   "metadata": {},
   "outputs": [],
   "source": [
    "print(swaplist(newlist))"
   ]
  },
  {
   "cell_type": "code",
   "execution_count": null,
   "id": "c05abf6f-400f-436c-ad19-b90b2867990e",
   "metadata": {},
   "outputs": [],
   "source": []
  },
  {
   "cell_type": "code",
   "execution_count": null,
   "id": "a49262fc-c8a1-4121-a849-f0011acc4090",
   "metadata": {},
   "outputs": [],
   "source": [
    "def swappos(list, pos1, pos2):\n",
    "    list[pos1], list[pos2] = list[pos2], list[pos1]\n",
    "    return list"
   ]
  },
  {
   "cell_type": "code",
   "execution_count": null,
   "id": "f23734c8-db9f-4c80-b6da-0c672327ed5e",
   "metadata": {},
   "outputs": [],
   "source": [
    "list = [1,44,55,45,66]\n",
    "pos1, pos2 = 1, 3"
   ]
  },
  {
   "cell_type": "code",
   "execution_count": null,
   "id": "017f4d13-2431-4c3b-8dce-da79255177a2",
   "metadata": {},
   "outputs": [],
   "source": [
    "print(swappos(list, pos1-1, pos2-2))"
   ]
  },
  {
   "cell_type": "code",
   "execution_count": null,
   "id": "52c003c3-4d95-4243-a024-847a7c1e5336",
   "metadata": {},
   "outputs": [],
   "source": [
    "\n",
    "# Python3 program to swap elements\n",
    "# at given positions\n",
    " \n",
    "# Swap function\n",
    "def swapPositions(list, pos1, pos2):\n",
    "     \n",
    "    list[pos1], list[pos2] = list[pos2], list[pos1]\n",
    "    return list\n",
    " \n",
    "# Driver function\n",
    "List = [23, 65, 19, 90]\n",
    "pos1, pos2  = 1, 3\n",
    " \n",
    "print(swapPositions(List, pos1-1, pos2-1))"
   ]
  },
  {
   "cell_type": "code",
   "execution_count": null,
   "id": "4748199f-164a-4ec9-ab9e-3f3bf36c246a",
   "metadata": {},
   "outputs": [],
   "source": [
    "print(swapPositions(List, pos1, pos2))"
   ]
  },
  {
   "cell_type": "code",
   "execution_count": null,
   "id": "a144ea1c-54b7-4f36-bcd0-73481cf46584",
   "metadata": {},
   "outputs": [],
   "source": [
    "test_list = [ 1, 4, 5, 7, 8 ]\n",
    "print(len(test_list))\n"
   ]
  },
  {
   "cell_type": "code",
   "execution_count": null,
   "id": "620ffb1e-1a11-451a-aaea-f02aeefe2a79",
   "metadata": {},
   "outputs": [],
   "source": [
    "test_list = [ 1, 4, 5, 7, 8 ]\n",
    " \n",
    "# Printing test_list\n",
    "print (\"The list is : \" + str(test_list))\n",
    " \n",
    "# Finding length of list\n",
    "# using loop\n",
    "# Initializing counter\n",
    "counter = 0\n",
    "for i in test_list:\n",
    "     \n",
    "    # incrementing counter\n",
    "    counter = counter + 1\n",
    " \n",
    "# Printing length of list\n",
    "print (\"Length of list using naive method is : \" + str(counter))"
   ]
  },
  {
   "cell_type": "code",
   "execution_count": null,
   "id": "2f0bb393-2622-4d98-9274-7f9da8068de9",
   "metadata": {},
   "outputs": [],
   "source": [
    "def max(a,b):\n",
    "    if a>b:\n",
    "        print (\"a is max\")\n",
    "    else:\n",
    "        print(\"b is max\")\n",
    "\n",
    "a = 4\n",
    "b = 5"
   ]
  },
  {
   "cell_type": "code",
   "execution_count": null,
   "id": "dd9f3fef-41d9-49b6-ae01-d07e0110078c",
   "metadata": {},
   "outputs": [],
   "source": [
    "max(a, b)"
   ]
  },
  {
   "cell_type": "code",
   "execution_count": null,
   "id": "b0ea913c-bae0-4b18-9227-4a916f621393",
   "metadata": {},
   "outputs": [],
   "source": [
    "a = 10\n",
    "b = 11\n",
    "\n",
    "print(max(a,b))"
   ]
  },
  {
   "cell_type": "code",
   "execution_count": null,
   "id": "0b822a46-63a9-447a-8814-44dc38ece282",
   "metadata": {},
   "outputs": [],
   "source": [
    "print(min(a, b))"
   ]
  },
  {
   "cell_type": "code",
   "execution_count": null,
   "id": "ecbaacbf-51a8-4f4e-98b9-1cff9bca5ddc",
   "metadata": {},
   "outputs": [],
   "source": [
    "a = [5,6,55,4,12,55,4,10,11,55,44,10,44,50]\n",
    "(len(a)-1)//2\n"
   ]
  },
  {
   "cell_type": "code",
   "execution_count": null,
   "id": "9fa3b6cf-1cf2-440a-9b46-e326492530eb",
   "metadata": {},
   "outputs": [],
   "source": [
    "import pandas"
   ]
  },
  {
   "cell_type": "code",
   "execution_count": null,
   "id": "b05f7240-cd92-40b3-811b-3dc8bb8689e6",
   "metadata": {},
   "outputs": [],
   "source": [
    "print(dir(pandas))"
   ]
  },
  {
   "cell_type": "code",
   "execution_count": null,
   "id": "31ddc165-d7ed-4c21-bc8c-1fb426220a4f",
   "metadata": {},
   "outputs": [],
   "source": []
  },
  {
   "cell_type": "code",
   "execution_count": null,
   "id": "1006ed16-db82-4057-916d-9e49e1ab84e9",
   "metadata": {},
   "outputs": [],
   "source": []
  },
  {
   "cell_type": "code",
   "execution_count": null,
   "id": "d4ed7f63-26a7-4973-ba6b-40d07fc1b171",
   "metadata": {},
   "outputs": [],
   "source": [
    "mul(40,44)\n"
   ]
  },
  {
   "cell_type": "code",
   "execution_count": null,
   "id": "595f9f9a-e9e5-4efa-9a65-441e95ff7030",
   "metadata": {},
   "outputs": [],
   "source": [
    "def sub(a,b):\n",
    "    result= a-b\n",
    "    print(result)"
   ]
  },
  {
   "cell_type": "code",
   "execution_count": null,
   "id": "72e43f06-04bc-4bb7-bf8a-901db4d46cad",
   "metadata": {},
   "outputs": [],
   "source": [
    "a = int(input(\"enter the value\"))\n",
    "b = int(input(\"enter the value\")) \n",
    "sub(a,b)"
   ]
  },
  {
   "cell_type": "code",
   "execution_count": null,
   "id": "2af3c738-b87a-4816-a2c6-f9ab65a3ba44",
   "metadata": {},
   "outputs": [],
   "source": [
    "sub(55,77)"
   ]
  },
  {
   "cell_type": "code",
   "execution_count": null,
   "id": "0007bf14-74fa-48d2-907d-69fb5f0b0f1b",
   "metadata": {},
   "outputs": [],
   "source": [
    "def table(x):\n",
    "    for i in range(1,11):\n",
    "        print(x, \"*\", i, \"=\", i*x)"
   ]
  },
  {
   "cell_type": "code",
   "execution_count": null,
   "id": "bd63a59e-c2b4-445f-acf9-f85f0ba1b85c",
   "metadata": {},
   "outputs": [],
   "source": [
    "x = int(input(\"Enter the Number\"))\n",
    "table(3)"
   ]
  },
  {
   "cell_type": "code",
   "execution_count": null,
   "id": "ea610276-8256-4506-a25f-7b765ff5d9b4",
   "metadata": {},
   "outputs": [],
   "source": [
    "print(list(range(1,11)))"
   ]
  },
  {
   "cell_type": "code",
   "execution_count": null,
   "id": "c41ec4e9-64e1-46d9-88c5-078fd337db99",
   "metadata": {},
   "outputs": [],
   "source": [
    "def test():\n",
    "    lists = []\n",
    "    for i in range(1,11):\n",
    "        lists.append(i)\n",
    "        print(i, end = ' ')\n",
    "    "
   ]
  },
  {
   "cell_type": "code",
   "execution_count": null,
   "id": "c8044ec3-1087-4737-98c3-84e95811d3d9",
   "metadata": {},
   "outputs": [],
   "source": [
    "\n",
    "        "
   ]
  },
  {
   "cell_type": "code",
   "execution_count": null,
   "id": "c7df6bf3-9901-4f7d-8ff9-f0897803953a",
   "metadata": {},
   "outputs": [],
   "source": [
    "test()"
   ]
  },
  {
   "cell_type": "code",
   "execution_count": null,
   "id": "3a4bd954-7892-4d1f-9a76-03e1a490a0e0",
   "metadata": {},
   "outputs": [],
   "source": [
    "s1 = {1,4,5}\n",
    "s2 = {5,6}\n",
    "\n",
    "print(s1&s2)"
   ]
  },
  {
   "cell_type": "code",
   "execution_count": null,
   "id": "d4c38c14-0061-48ee-b624-277c609c4805",
   "metadata": {},
   "outputs": [],
   "source": [
    "print('My', 'Name', 'Is', 'James', sep=' ....')"
   ]
  },
  {
   "cell_type": "code",
   "execution_count": null,
   "id": "166f4d17-c0b0-497b-80da-ccffdffa274d",
   "metadata": {},
   "outputs": [],
   "source": [
    "a = int(input(\"Enter 1st\"))\n",
    "b = int(input(\"Enter 2nd\"))\n",
    "\n",
    "x = a*b\n",
    "\n",
    "print(x)"
   ]
  },
  {
   "cell_type": "code",
   "execution_count": null,
   "id": "1a3e30af-16c9-4313-b331-f9b64b6d6e86",
   "metadata": {},
   "outputs": [],
   "source": [
    "num = 8\n",
    "print('%o' % num)"
   ]
  },
  {
   "cell_type": "code",
   "execution_count": null,
   "id": "57ce448b-e84f-4b8a-840a-033f1cfa8684",
   "metadata": {},
   "outputs": [],
   "source": [
    "num = 458.541315\n",
    "print('%.2f' % num)"
   ]
  },
  {
   "cell_type": "code",
   "execution_count": null,
   "id": "713615df-a78d-47d5-ace9-6991510a8ef1",
   "metadata": {},
   "outputs": [],
   "source": [
    "lists = []\n",
    "for i in range(1,5):\n",
    "    print(\"Enter number at location\", i, \":\")\n",
    "    item = float(input(\"Enter a Number\"))\n",
    "    lists.append(item)\n",
    "    print(lists)    "
   ]
  },
  {
   "cell_type": "code",
   "execution_count": null,
   "id": "70b8218a-c643-4672-bb99-40a067af2895",
   "metadata": {},
   "outputs": [],
   "source": []
  },
  {
   "cell_type": "code",
   "execution_count": null,
   "id": "5a0523f9-5977-4023-88b4-3012cac5fa16",
   "metadata": {},
   "outputs": [],
   "source": [
    "lists = [1,2,3,4,5,6,7,8,9]\n",
    "\n",
    "for i in lists:\n",
    "    if i==4:\n",
    "        continue;\n",
    "    print(i, end = ' ')"
   ]
  },
  {
   "cell_type": "code",
   "execution_count": null,
   "id": "e2c0775c-fcc2-4be6-80b1-5fd8ba9f1c48",
   "metadata": {},
   "outputs": [],
   "source": [
    "str1, str2, str3 = str(input(\"Enter three string\")).split()\n",
    "\n",
    "print(\"Name1\", str1)\n",
    "print(\"Name2\", str2)\n",
    "print(\"Name3\", str3)\n"
   ]
  },
  {
   "cell_type": "code",
   "execution_count": null,
   "id": "8174b0c6-6273-4e45-9470-e3a6cf5e9321",
   "metadata": {},
   "outputs": [],
   "source": []
  },
  {
   "cell_type": "code",
   "execution_count": null,
   "id": "5c8a3213-4492-4763-892c-7cbb259da974",
   "metadata": {},
   "outputs": [],
   "source": [
    "# read test.txt\n",
    "with open(\"test.txt\", \"r\") as fp:\n",
    "    # read all lines from a file\n",
    "    lines = fp.readlines()\n",
    "\n",
    "# open new file in write mode\n",
    "with open(\"new_file.txt\", \"w\") as fp:\n",
    "    count = 0\n",
    "    # iterate each lines from a test.txt\n",
    "    for line in lines:\n",
    "        # skip 5th lines\n",
    "        if count == 4:\n",
    "            count += 1\n",
    "            continue\n",
    "        else:\n",
    "            # write current line\n",
    "            fp.write(line)\n",
    "        # in each iteration reduce the count\n",
    "        count += 1"
   ]
  },
  {
   "cell_type": "code",
   "execution_count": null,
   "id": "b48e3965-63b4-4387-9323-55271b3c3d1a",
   "metadata": {},
   "outputs": [],
   "source": [
    "quantity = 3\n",
    "totalMoney = 1000\n",
    "price = 450\n",
    "statement1 = \"I have {1} dollars so I can buy {0} football for {2:.2f} dollars.\"\n",
    "print(statement1.format(quantity, totalMoney, price))"
   ]
  },
  {
   "cell_type": "code",
   "execution_count": null,
   "id": "f5796a1e-fe6f-4411-9d70-c8abf98e87c9",
   "metadata": {},
   "outputs": [],
   "source": []
  },
  {
   "cell_type": "code",
   "execution_count": null,
   "id": "2398d812-e40b-482d-b615-a214df00fef6",
   "metadata": {},
   "outputs": [],
   "source": [
    "# read file\n",
    "with open(\"test.txt\", \"r\") as fp:\n",
    "    # read all lines from a file\n",
    "    lines = fp.readlines()\n",
    "    # get line number 3\n",
    "    print(lines[2])\n"
   ]
  },
  {
   "cell_type": "code",
   "execution_count": null,
   "id": "d4285309-896e-4509-9cd0-a966fcf35924",
   "metadata": {},
   "outputs": [],
   "source": [
    "i = 1\n",
    "while i <=10:\n",
    "    print(i)\n",
    "    i = i+1\n",
    "    "
   ]
  },
  {
   "cell_type": "code",
   "execution_count": null,
   "id": "ba904f82-b3a6-4e94-91cd-5fd67f5623cb",
   "metadata": {},
   "outputs": [],
   "source": [
    "lists = []\n",
    "for i in range(1,6):\n",
    "    lists.append(i)\n",
    "    print(lists)"
   ]
  },
  {
   "cell_type": "code",
   "execution_count": null,
   "id": "82369230-232c-42f8-8325-d400e929ef99",
   "metadata": {},
   "outputs": [],
   "source": [
    "print(\"Number Pattern\")\n",
    "\n",
    "row = 5\n",
    "\n",
    "for i in range (1, row + 1, 1):\n",
    "    \n",
    "    for j in range(1, i+1):\n",
    "        print(j, end=' ')\n",
    "        \n",
    "        print(\"\")"
   ]
  },
  {
   "cell_type": "code",
   "execution_count": null,
   "id": "9512c697-b731-4191-ae7b-23513c3b3da8",
   "metadata": {},
   "outputs": [],
   "source": [
    "print(\"Number Pattern \")\n",
    "\n",
    "# Decide the row count. (above pattern contains 5 rows)\n",
    "n = 5\n",
    "# start: 1\n",
    "# stop: row+1 (range never include stop number in result)\n",
    "# step: 1\n",
    "# run loop 5 times\n",
    "for i in range(1, n + 1):\n",
    "    # Run inner loop i+1 times\n",
    "    for j in range(1, i + 1):\n",
    "        print(j, end=' ')\n",
    "    # empty line after each row\n",
    "    print(\"\")"
   ]
  },
  {
   "cell_type": "code",
   "execution_count": null,
   "id": "2555a50c-1139-4962-9ffa-c3b3e2bfa989",
   "metadata": {},
   "outputs": [],
   "source": [
    "s = 0\n",
    "n = int(input(\"Enter a number\"))\n",
    "\n",
    "for i in range(1, n+1):\n",
    "    s+=i\n",
    "    \n",
    "    print(\"\\n\")\n",
    "    print(\"Sum is\" ,s, end = \" \")"
   ]
  },
  {
   "cell_type": "code",
   "execution_count": null,
   "id": "56a4578d-58d2-44b1-b3c3-7c56caf062a4",
   "metadata": {},
   "outputs": [],
   "source": [
    "n = int(input(\"Enter a number\"))\n",
    "\n",
    "x = sum(range(1, n+1))\n",
    "print(x)"
   ]
  },
  {
   "cell_type": "code",
   "execution_count": null,
   "id": "8fb60cf8-ae21-4b6e-89ab-a6edb97a30ef",
   "metadata": {},
   "outputs": [],
   "source": [
    "for i in range(1,11):\n",
    "    i=i*2\n",
    "    print(i, end=(' '))\n",
    "    "
   ]
  },
  {
   "cell_type": "code",
   "execution_count": null,
   "id": "e377f165-2aa7-42c3-b74b-7cc23fda973f",
   "metadata": {},
   "outputs": [],
   "source": [
    "n = 2\n",
    "# stop: 11 (because range never include stop number in result)\n",
    "# run loop 10 times\n",
    "for i in range(1, 11, 1):\n",
    "    # 2 *i (current number)\n",
    "    product = n * i\n",
    "    print(product, end = \" \")"
   ]
  },
  {
   "cell_type": "code",
   "execution_count": null,
   "id": "1958daff-554d-4ad8-a122-07eeaa34c197",
   "metadata": {},
   "outputs": [],
   "source": [
    "num = [12, 75, 150, 180, 145, 525, 50]  "
   ]
  },
  {
   "cell_type": "code",
   "execution_count": null,
   "id": "ae6ab453-5f7e-4b4a-9822-077151ec6222",
   "metadata": {},
   "outputs": [],
   "source": [
    "for i in num:\n",
    "    if i>500:\n",
    "        break\n",
    "    elif i>150:\n",
    "        continue\n",
    "    elif i%5==0:\n",
    "        print(i)"
   ]
  },
  {
   "cell_type": "code",
   "execution_count": null,
   "id": "4facce29-a416-4157-b9ca-b9478413e7cc",
   "metadata": {},
   "outputs": [],
   "source": [
    "n = 5\n",
    "k = 5\n",
    "for i in range(0,n+1):\n",
    "    for j in range(k-i,0, -1):\n",
    "        print(j,end=' ')\n",
    "    print()"
   ]
  },
  {
   "cell_type": "code",
   "execution_count": null,
   "id": "3a46dc17-789d-4ff9-a707-1d28676196d0",
   "metadata": {},
   "outputs": [],
   "source": [
    "    "
   ]
  },
  {
   "cell_type": "code",
   "execution_count": null,
   "id": "cf12cd20-e2d8-4f94-a810-ff769b063090",
   "metadata": {},
   "outputs": [],
   "source": []
  },
  {
   "cell_type": "code",
   "execution_count": null,
   "id": "281fce86-0a81-4c62-845f-69e65f91aa96",
   "metadata": {},
   "outputs": [],
   "source": [
    "list1 = [10, 20, 30, 40, 50]\n",
    "# reverse list\n",
    "new_list = reversed(list1)\n",
    "# iterate reversed list\n",
    "for item in new_list:\n",
    "    print(item, end = ' ')"
   ]
  },
  {
   "cell_type": "code",
   "execution_count": null,
   "id": "d57ec625-5418-4125-9dd1-f4eb9e7998a7",
   "metadata": {},
   "outputs": [],
   "source": [
    "list1 = [10, 20, 30, 40, 50]\n",
    "\n",
    "size = len(list1) - 1\n",
    "for i in range(size, -1, -1):\n",
    "    print(list1[i])"
   ]
  },
  {
   "cell_type": "code",
   "execution_count": null,
   "id": "79beddd8-8019-46cd-a5f4-9b34a25cab17",
   "metadata": {},
   "outputs": [],
   "source": [
    "for i in range(-10, 0):\n",
    "    print(i, end = ' ')"
   ]
  },
  {
   "cell_type": "code",
   "execution_count": null,
   "id": "c98aac89-764f-4449-a6a6-4c82fe39e416",
   "metadata": {},
   "outputs": [],
   "source": [
    "for i in range(25, 50):\n",
    "    if i>1:\n",
    "        for j in range (2, i):\n",
    "            if (i%j) == 0:\n",
    "                \n",
    "                break\n",
    "        else:\n",
    "            print(i, end = ' ')"
   ]
  },
  {
   "cell_type": "code",
   "execution_count": null,
   "id": "5ba1d249-3011-405b-94fa-9a318e1b0acd",
   "metadata": {},
   "outputs": [],
   "source": []
  },
  {
   "cell_type": "code",
   "execution_count": null,
   "id": "e8831a60-3245-4fac-8204-69973de14512",
   "metadata": {},
   "outputs": [],
   "source": [
    "max([x**2 for x in range(10)])"
   ]
  },
  {
   "cell_type": "code",
   "execution_count": null,
   "id": "9f6fbef6-0a63-4db7-acdf-9e3794984217",
   "metadata": {},
   "outputs": [],
   "source": [
    "pt = ''\n",
    "for i in range(10):\n",
    "    with open('test.txt', 'w') as pt:\n",
    "        if i > 2:\n",
    "            break\n",
    "print(pt.closed)            "
   ]
  },
  {
   "cell_type": "code",
   "execution_count": null,
   "id": "0a1c2a0a-9862-49dc-92e4-5e74afd7773c",
   "metadata": {},
   "outputs": [],
   "source": [
    "M = [[-2,-1,0], [1,2,3],[4,5,6]]\n",
    "\n",
    "print([M[i][i] for i in range(len(M))])"
   ]
  },
  {
   "cell_type": "code",
   "execution_count": null,
   "id": "a2143ab2-ff00-4739-8180-cb2365b59bde",
   "metadata": {},
   "outputs": [],
   "source": [
    "D = [2, {3,4}, 5, 7]"
   ]
  },
  {
   "cell_type": "code",
   "execution_count": null,
   "id": "3d6d6386-6ae3-4990-9c94-ddbecab71320",
   "metadata": {},
   "outputs": [],
   "source": [
    "D"
   ]
  },
  {
   "cell_type": "code",
   "execution_count": null,
   "id": "d9653b50-a1e3-4db5-a78f-ac149c440ac7",
   "metadata": {},
   "outputs": [],
   "source": [
    "def test(data):\n",
    "    if len(data) == len(set(data)):\n",
    "        return True\n",
    "    else:\n",
    "        return False;"
   ]
  },
  {
   "cell_type": "code",
   "execution_count": null,
   "id": "17dbad07-9fb0-4c9c-a242-b5759d71f53b",
   "metadata": {},
   "outputs": [],
   "source": [
    "print(test([1,2,5,88]))\n",
    "print(test([55,44,55,2,6]))"
   ]
  },
  {
   "cell_type": "code",
   "execution_count": null,
   "id": "397f7a1f-7f0b-43a4-baf4-76b726ed30ab",
   "metadata": {},
   "outputs": [],
   "source": [
    "import random\n",
    "\n",
    "char = ['a', 'e', 'i', 'o', 'u']\n",
    "random.shuffle(char)\n",
    "print(''.join(char))"
   ]
  },
  {
   "cell_type": "code",
   "execution_count": null,
   "id": "6f92bfde-b737-4898-9f4f-0d6f27b6c2cb",
   "metadata": {},
   "outputs": [],
   "source": []
  },
  {
   "cell_type": "code",
   "execution_count": null,
   "id": "23f6b773-3d7e-41d7-8f31-bbeea739ccaa",
   "metadata": {},
   "outputs": [],
   "source": [
    "def rem_no(lists):\n",
    "    position = 3-1\n",
    "    idx = 0\n",
    "    len_lists = (len(lists))\n",
    "    while len_lists>0:\n",
    "        idx = (position+idx)%len_lists\n",
    "        print(lists.pop(idx))\n",
    "        len_lists -= 1\n",
    "num = [10,20,30,40,50,60,70,80,90]\n",
    "\n",
    "rem_no(num)\n",
    "    \n",
    "    \n",
    "    "
   ]
  },
  {
   "cell_type": "code",
   "execution_count": null,
   "id": "bd0c5ae2-9b5e-409b-afe4-efd423bc1a73",
   "metadata": {},
   "outputs": [],
   "source": []
  },
  {
   "cell_type": "code",
   "execution_count": null,
   "id": "a356408b-a5e6-4849-b05d-27466d045f94",
   "metadata": {},
   "outputs": [],
   "source": [
    "import sys\n",
    "print(\"python version\")\n",
    "print(sys.version)\n",
    "print(\"Version info.\")\n",
    "print(sys.version_info)"
   ]
  },
  {
   "cell_type": "code",
   "execution_count": null,
   "id": "0ef248db-a1f6-41a1-b238-b9cb1d943816",
   "metadata": {},
   "outputs": [],
   "source": [
    "import platform\n",
    "print(platform.python_version_tuple())\n",
    "print(type(platform.python_version_tuple()))"
   ]
  },
  {
   "cell_type": "code",
   "execution_count": null,
   "id": "89bdadd9-218c-4b8b-b24e-87a01dd42369",
   "metadata": {},
   "outputs": [],
   "source": [
    "import datetime\n",
    "now = datetime.datetime.now()\n",
    "print('currennt date and time')\n",
    "print(now.strftime(\"%Y-%m-%d %H: %M: %S\"))"
   ]
  },
  {
   "cell_type": "code",
   "execution_count": null,
   "id": "8614994f-1dbe-45f8-aa98-47ac7c4723d7",
   "metadata": {},
   "outputs": [],
   "source": [
    "now.strftime(\"%Y-%m-%d %H: %M: %S\")"
   ]
  },
  {
   "cell_type": "code",
   "execution_count": null,
   "id": "2df23fbe-f8c1-4a7c-92da-1a37f650bc1f",
   "metadata": {},
   "outputs": [],
   "source": [
    "def fun1():\n",
    "    a = 40\n",
    "    b = 30\n",
    "    c = a + b\n",
    "    return c"
   ]
  },
  {
   "cell_type": "code",
   "execution_count": null,
   "id": "4f18f2e6-48a8-4f95-a0e1-1b61e8f67847",
   "metadata": {},
   "outputs": [],
   "source": [
    "h = fun1()"
   ]
  },
  {
   "cell_type": "code",
   "execution_count": null,
   "id": "c0109f29-88d2-4933-897b-c24c8c7e2036",
   "metadata": {},
   "outputs": [],
   "source": [
    "h"
   ]
  },
  {
   "cell_type": "code",
   "execution_count": null,
   "id": "e5c1a69f-3004-4b96-a9e4-daeccf9633f4",
   "metadata": {},
   "outputs": [],
   "source": [
    "def f(h):\n",
    "    print(h - 40)"
   ]
  },
  {
   "cell_type": "code",
   "execution_count": null,
   "id": "9d01206a-4b76-404b-9fa8-c12ac9b69785",
   "metadata": {},
   "outputs": [],
   "source": [
    "f(h)"
   ]
  },
  {
   "cell_type": "markdown",
   "id": "2cb01398-5cd8-4198-aa27-549098c43a0d",
   "metadata": {},
   "source": [
    "### Use print or return?\n",
    "**Use print when you want to show a value to a human.** return is a keyword. When a return statement is reached, Python will stop the execution of the current function, sending a value out to where the function was called. **Use return when you want to send a value from one point in your code to another.**"
   ]
  },
  {
   "cell_type": "code",
   "execution_count": null,
   "id": "6348b03c-85c4-4563-bdaf-ded438b0bcea",
   "metadata": {},
   "outputs": [],
   "source": []
  },
  {
   "cell_type": "markdown",
   "id": "4296bd9b-46d5-4bb9-94a3-97271c1d9b1e",
   "metadata": {},
   "source": [
    "#### In case you don't know how many argument have to pass the we can use *args."
   ]
  },
  {
   "cell_type": "code",
   "execution_count": null,
   "id": "4b9b3ebd-333f-4e5e-a885-b08ebf1870ce",
   "metadata": {},
   "outputs": [],
   "source": [
    "def pls(*args):\n",
    "    return sum(args)"
   ]
  },
  {
   "cell_type": "code",
   "execution_count": null,
   "id": "4128ed21-84bf-42d2-a50f-2fc20dee3599",
   "metadata": {},
   "outputs": [],
   "source": [
    "pls(4,5,55)"
   ]
  },
  {
   "cell_type": "code",
   "execution_count": null,
   "id": "ef4b6309-448a-4dc1-8964-a302ec93b595",
   "metadata": {},
   "outputs": [],
   "source": [
    "pls(4,5,10,5,6,10,20,3)"
   ]
  },
  {
   "cell_type": "code",
   "execution_count": null,
   "id": "8e7d9aa6-5641-4fb6-979f-0d1c67e6ced5",
   "metadata": {},
   "outputs": [],
   "source": [
    "def sumf(*num):\n",
    "    s = 0\n",
    "    for i in num:\n",
    "        s+=i\n",
    "    return s    "
   ]
  },
  {
   "cell_type": "code",
   "execution_count": null,
   "id": "a6bfdf7d-47b3-44dd-ac0f-818fee1c0b7a",
   "metadata": {},
   "outputs": [],
   "source": [
    "sumf(4,5,2,3)"
   ]
  },
  {
   "cell_type": "markdown",
   "id": "1c22b860-550f-46d4-a8cf-eb4b0a96c9c0",
   "metadata": {},
   "source": [
    "##### here s+=i is same as s = s+i"
   ]
  },
  {
   "cell_type": "code",
   "execution_count": null,
   "id": "1fae28ea-b36a-427d-9282-31fa6ac04555",
   "metadata": {},
   "outputs": [],
   "source": [
    "def area():\n",
    "    a=3.14\n",
    "    b=r**2\n",
    "    c = a*b\n",
    "    return c"
   ]
  },
  {
   "cell_type": "code",
   "execution_count": null,
   "id": "99b34f65-4c0a-40a6-b34b-2c88b9c7443a",
   "metadata": {},
   "outputs": [],
   "source": [
    "r=int(input(\"Enter the radius\"))\n",
    "print(area())"
   ]
  },
  {
   "cell_type": "code",
   "execution_count": null,
   "id": "c7e95677-45c1-4060-a585-27a2b6859b3c",
   "metadata": {},
   "outputs": [],
   "source": [
    "def findArea(r):\n",
    "    PI = 3.14\n",
    "    return PI * (r*r);\n"
   ]
  },
  {
   "cell_type": "code",
   "execution_count": null,
   "id": "34e9b3a4-4a10-472c-89ab-f4587ca697b2",
   "metadata": {},
   "outputs": [],
   "source": [
    "r = int(input(\"Radius\"))\n",
    "print(findArea(r))"
   ]
  },
  {
   "cell_type": "markdown",
   "id": "818d207b-5e70-41c1-a485-3572ceb5833f",
   "metadata": {},
   "source": [
    "### OOPs (Class)"
   ]
  },
  {
   "cell_type": "code",
   "execution_count": null,
   "id": "c2984ecf-47ef-4d00-bbeb-aff14089c2b2",
   "metadata": {},
   "outputs": [],
   "source": [
    "class student:\n",
    "    #initialization/constructor                           #self ----> instance/object name\n",
    "    def __init__(self, rollno,name):\n",
    "        self.rollno=rollno\n",
    "        self.name= name\n",
    "        \n",
    "    def display(self):\n",
    "        print(\"Student rollno=\", self.rollno,\" and Name =\", self.name)"
   ]
  },
  {
   "cell_type": "code",
   "execution_count": null,
   "id": "df6b0d0a-9b45-499b-99ad-b8a312020840",
   "metadata": {},
   "outputs": [],
   "source": [
    "# Creating instance/object\n",
    "\n",
    "obj1 = student(201, \"John\")\n",
    "obj1.display()"
   ]
  },
  {
   "cell_type": "code",
   "execution_count": null,
   "id": "1e04a664-d951-421b-9f65-90a5f5c52d9b",
   "metadata": {},
   "outputs": [],
   "source": [
    "stud1 = student(202, \"Andrew\")\n",
    "stud1.display()"
   ]
  },
  {
   "cell_type": "code",
   "execution_count": null,
   "id": "dc321476-0f5e-4847-ad4a-0bc9ff1ee16e",
   "metadata": {},
   "outputs": [],
   "source": [
    "obj1.display()\n",
    "stud1.display()"
   ]
  },
  {
   "cell_type": "code",
   "execution_count": null,
   "id": "f0f1ebe1-b629-4050-bd32-b7f1a49f42ab",
   "metadata": {},
   "outputs": [],
   "source": [
    "values = [5, 4, 7, 8, 9, 3]\n",
    "\n",
    "values_copy = []\n",
    "for v in values:\n",
    "    values_copy = v"
   ]
  },
  {
   "cell_type": "code",
   "execution_count": null,
   "id": "9f0a033e-2efe-4b5e-863b-51193f07900f",
   "metadata": {},
   "outputs": [],
   "source": []
  },
  {
   "cell_type": "code",
   "execution_count": null,
   "id": "86912ac4-6c44-4e99-a972-20939e064bdb",
   "metadata": {},
   "outputs": [],
   "source": [
    "values = [3, 5, 2, 1]\n",
    "\n",
    "total = 0\n",
    "for x in values:\n",
    "    total += x"
   ]
  },
  {
   "cell_type": "code",
   "execution_count": null,
   "id": "afa95761-256e-495d-9c83-10a0fcdf5fcf",
   "metadata": {},
   "outputs": [],
   "source": [
    "print(total)"
   ]
  },
  {
   "cell_type": "code",
   "execution_count": null,
   "id": "4058249a-3d8a-4487-b11b-40fd4a61de7b",
   "metadata": {},
   "outputs": [],
   "source": [
    "print(x)"
   ]
  },
  {
   "cell_type": "code",
   "execution_count": null,
   "id": "60a906bd-8df7-4a6e-a139-0bf4dcb47b8e",
   "metadata": {},
   "outputs": [],
   "source": [
    "for i in range(10):\n",
    "    print(i)\n",
    "    i = 11"
   ]
  },
  {
   "cell_type": "code",
   "execution_count": null,
   "id": "e4c7ead0-4fbb-4aa2-9d41-032dfe141cea",
   "metadata": {},
   "outputs": [],
   "source": [
    "values = [5, 4, 7, 8, 9, 3]\n",
    "\n",
    "values_copy = []\n",
    "for v in values:\n",
    "    values_copy.append(v)"
   ]
  },
  {
   "cell_type": "code",
   "execution_count": null,
   "id": "63318eb3-b546-43df-9b63-53c3fc49084f",
   "metadata": {},
   "outputs": [],
   "source": [
    "print(values_copy)"
   ]
  },
  {
   "cell_type": "code",
   "execution_count": null,
   "id": "b1f02b3a-b7e9-496e-aed2-90a0f752df26",
   "metadata": {},
   "outputs": [],
   "source": [
    "number = [1,1,1]\n",
    "List = []\n",
    "for i in number:\n",
    "    [i]*7\n",
    "    print(i)\n",
    "    "
   ]
  },
  {
   "cell_type": "code",
   "execution_count": null,
   "id": "b9dbceea-1534-4da5-baed-07d12fd8905c",
   "metadata": {},
   "outputs": [],
   "source": [
    "matrix_of_ones = []\n",
    "for _ in range(7):\n",
    "    matrix_of_ones.append([1, 1, 1])"
   ]
  },
  {
   "cell_type": "code",
   "execution_count": 97,
   "id": "807d406a-9c83-4cff-b922-b8c0ff8fe736",
   "metadata": {},
   "outputs": [
    {
     "name": "stdout",
     "output_type": "stream",
     "text": [
      "5\n",
      "9\n"
     ]
    }
   ],
   "source": [
    "matrix = [\n",
    "    [0, 9, 5, 4, 5, 3, 1, 5, 7],\n",
    "    [8, 2, 1, 7, 3, 1, 5, 7, 0],\n",
    "    [1, 5, 3, 2, 7, 1, 4, 4, 8],\n",
    "    [2, 5, 6, 2, 0, 4, 1, 9, 3],\n",
    "    [7, 4, 2, 9, 7, 0, 7, 4, 4],\n",
    "]\n",
    "print(len(matrix))\n",
    "print(len(matrix[0]))"
   ]
  },
  {
   "cell_type": "code",
   "execution_count": 7,
   "id": "5ea078a8-d86c-44c9-a226-7426fdce9d08",
   "metadata": {},
   "outputs": [],
   "source": [
    "def lenth(x):\n",
    "    return len(x)"
   ]
  },
  {
   "cell_type": "code",
   "execution_count": 11,
   "id": "551ecfc3-9789-453a-a783-aaef34dd7cdb",
   "metadata": {},
   "outputs": [
    {
     "data": {
      "text/plain": [
       "4"
      ]
     },
     "execution_count": 11,
     "metadata": {},
     "output_type": "execute_result"
    }
   ],
   "source": [
    "lenth(\"Data\")"
   ]
  },
  {
   "cell_type": "code",
   "execution_count": 12,
   "id": "8ad289e2-c54a-42af-8c08-56c5c364aea2",
   "metadata": {},
   "outputs": [],
   "source": [
    "def str_len(x):\n",
    "    count = 0\n",
    "    for char in x:\n",
    "        count+=1\n",
    "    return count"
   ]
  },
  {
   "cell_type": "code",
   "execution_count": 14,
   "id": "ff1e570c-925d-4cac-a246-936c8800ee6d",
   "metadata": {},
   "outputs": [
    {
     "data": {
      "text/plain": [
       "4"
      ]
     },
     "execution_count": 14,
     "metadata": {},
     "output_type": "execute_result"
    }
   ],
   "source": [
    "str_len(\"Data\")"
   ]
  },
  {
   "cell_type": "code",
   "execution_count": 18,
   "id": "790c5c87-232e-481c-a563-1a9f35864704",
   "metadata": {},
   "outputs": [],
   "source": [
    "def char_freq(x):\n",
    "    dict = {}\n",
    "    for i in x:\n",
    "        keys = dict.keys()\n",
    "        if i in keys:\n",
    "            dict[i] +=1\n",
    "        else:\n",
    "            dict[i] = 1\n",
    "            \n",
    "    return dict       "
   ]
  },
  {
   "cell_type": "code",
   "execution_count": 19,
   "id": "4a5af2b7-2fe6-4cc8-af9c-bf23c8e5588b",
   "metadata": {},
   "outputs": [
    {
     "data": {
      "text/plain": [
       "{'g': 2, 'o': 3, 'l': 1, 'e': 1, '.': 1, 'c': 1, 'm': 1}"
      ]
     },
     "execution_count": 19,
     "metadata": {},
     "output_type": "execute_result"
    }
   ],
   "source": [
    "char_freq(\"google.com\")"
   ]
  },
  {
   "cell_type": "code",
   "execution_count": 30,
   "id": "50cb4c87-30bd-40b3-b33e-da8e63d2afd0",
   "metadata": {},
   "outputs": [
    {
     "name": "stdin",
     "output_type": "stream",
     "text": [
      "Enter any number 3\n"
     ]
    },
    {
     "name": "stdout",
     "output_type": "stream",
     "text": [
      "Odd and positive\n"
     ]
    }
   ],
   "source": [
    "num = int(input(\"Enter any number\"))\n",
    "\n",
    "if num%2==0:\n",
    "        print(\"Even\")\n",
    "elif num <1:\n",
    "        print (\"Negative\")\n",
    "\n",
    "elif num%2!=0 or num>0:\n",
    "       print(\"Odd and positive\")\n",
    "        \n",
    "       \n",
    "    \n",
    "        \n",
    "          "
   ]
  },
  {
   "cell_type": "code",
   "execution_count": null,
   "id": "cac3077c-0180-4bb5-83f7-d40e0e449eb4",
   "metadata": {},
   "outputs": [],
   "source": []
  }
 ],
 "metadata": {
  "kernelspec": {
   "display_name": "Python 3 (ipykernel)",
   "language": "python",
   "name": "python3"
  },
  "language_info": {
   "codemirror_mode": {
    "name": "ipython",
    "version": 3
   },
   "file_extension": ".py",
   "mimetype": "text/x-python",
   "name": "python",
   "nbconvert_exporter": "python",
   "pygments_lexer": "ipython3",
   "version": "3.9.7"
  }
 },
 "nbformat": 4,
 "nbformat_minor": 5
}

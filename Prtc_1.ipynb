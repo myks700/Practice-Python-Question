{
 "cells": [
  {
   "cell_type": "code",
   "execution_count": 15,
   "id": "806103e2-4645-47c0-b298-674195d47d10",
   "metadata": {},
   "outputs": [
    {
     "name": "stdin",
     "output_type": "stream",
     "text": [
      "Enter Your Name Mayank\n",
      "age 28\n"
     ]
    },
    {
     "name": "stdout",
     "output_type": "stream",
     "text": [
      "Mayank  You'll turn 2094 after 100 years\n"
     ]
    }
   ],
   "source": [
    "name = input(\"Enter Your Name\")\n",
    "age = int(input(\"age\"))\n",
    "year = 2022 - age + 100\n",
    "print(name , \"\", \"You'll turn\", str(year), \"after 100 years\")"
   ]
  },
  {
   "cell_type": "code",
   "execution_count": null,
   "id": "4b8614c3-ebfb-4146-8a79-5e5f244c4910",
   "metadata": {},
   "outputs": [],
   "source": []
  },
  {
   "cell_type": "code",
   "execution_count": 23,
   "id": "59d66385-5bc0-4449-b7f4-1d4c8d391972",
   "metadata": {},
   "outputs": [
    {
     "name": "stdin",
     "output_type": "stream",
     "text": [
      "Enter the number 5\n"
     ]
    },
    {
     "name": "stdout",
     "output_type": "stream",
     "text": [
      "Odd\n"
     ]
    }
   ],
   "source": [
    "user = int(input(\"Enter the number\"))\n",
    "\n",
    "mod = user % 2\n",
    "\n",
    "if mod > 0:\n",
    "    print(\"Odd\")\n",
    "else:\n",
    "    print(\"Even\")"
   ]
  },
  {
   "cell_type": "code",
   "execution_count": null,
   "id": "62686298-0f08-478d-9149-97d6ac498887",
   "metadata": {},
   "outputs": [],
   "source": []
  },
  {
   "cell_type": "code",
   "execution_count": 36,
   "id": "1c40c2df-07ad-43d6-bcf1-e31c191cc662",
   "metadata": {},
   "outputs": [
    {
     "name": "stdout",
     "output_type": "stream",
     "text": [
      "[3, 1, 2, 4]\n"
     ]
    }
   ],
   "source": [
    "numbers = [7,3,13,6,8,5,1,2,4,15,9,10,12,14,11]\n",
    "List = []\n",
    "\n",
    "#Instead of printing the elements one by one, make a new list that has all the elements less than 5 from this list in it and print out this new list.\n",
    "for x in numbers:\n",
    "    if x < 5: #Compare numbers in list against 5\n",
    "        List.append(x) #Add numbers that are less than 5 to our list\n",
    "print(List)        "
   ]
  },
  {
   "cell_type": "code",
   "execution_count": null,
   "id": "7c13165e-d757-48e2-87fa-37d7b09c614d",
   "metadata": {},
   "outputs": [],
   "source": []
  },
  {
   "cell_type": "code",
   "execution_count": 39,
   "id": "67f0e0a5-871b-46b0-8506-7a7b21bcbd74",
   "metadata": {},
   "outputs": [
    {
     "name": "stdout",
     "output_type": "stream",
     "text": [
      "[1, 2, 3, 4]\n",
      "\n"
     ]
    }
   ],
   "source": [
    "#Create lists\n",
    "numbers = [7,3,13,6,8,5,1,2,4,15,9,10,12,14,11]\n",
    "lessFnums = []\n",
    "\n",
    "#Instead of printing the elements one by one, make a new list that has all the elements less than 5 from this list in it and print out this new list.\n",
    "for num in numbers:\n",
    "    if num < 5: #Compare numbers in list against 5\n",
    "        lessFnums.append(num) #Add numbers that are less than 5 to our list\n",
    "        lessFnums.sort() # Sort list\n",
    "        \n",
    "print(lessFnums)\n",
    "print()        "
   ]
  },
  {
   "cell_type": "code",
   "execution_count": 48,
   "id": "86cf3448-0bc3-47a0-89fd-d646727446ff",
   "metadata": {},
   "outputs": [
    {
     "name": "stdin",
     "output_type": "stream",
     "text": [
      "Enter a Number 9\n"
     ]
    },
    {
     "name": "stdout",
     "output_type": "stream",
     "text": [
      "[3, 7]\n"
     ]
    }
   ],
   "source": [
    "numbers = [7,3,13,15,9,10,12,14,11]\n",
    "num = int(input(\"Enter a Number\"))\n",
    "\n",
    "List_1=[]\n",
    "\n",
    "for x in numbers:\n",
    "    if x < num:\n",
    "        List_1.append(x)\n",
    "        List_1.sort()\n",
    "        \n",
    "print(List_1) \n"
   ]
  },
  {
   "cell_type": "code",
   "execution_count": null,
   "id": "2dbd87cc-9a3f-434d-bc50-8bdd86e95026",
   "metadata": {},
   "outputs": [],
   "source": []
  },
  {
   "cell_type": "code",
   "execution_count": null,
   "id": "2959bf59-ada4-4784-8d05-1f71336fb21b",
   "metadata": {},
   "outputs": [],
   "source": []
  }
 ],
 "metadata": {
  "kernelspec": {
   "display_name": "Python 3 (ipykernel)",
   "language": "python",
   "name": "python3"
  },
  "language_info": {
   "codemirror_mode": {
    "name": "ipython",
    "version": 3
   },
   "file_extension": ".py",
   "mimetype": "text/x-python",
   "name": "python",
   "nbconvert_exporter": "python",
   "pygments_lexer": "ipython3",
   "version": "3.9.7"
  }
 },
 "nbformat": 4,
 "nbformat_minor": 5
}
